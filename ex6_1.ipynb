{
  "nbformat": 4,
  "nbformat_minor": 0,
  "metadata": {
    "colab": {
      "name": "ex6_1.ipynb",
      "provenance": [],
      "collapsed_sections": [],
      "mount_file_id": "1IgqjPj-BNXjsh0sWndNcDQ3QFWQbPdti",
      "authorship_tag": "ABX9TyNoCNZKXoDkaLKtiGPjmbrl",
      "include_colab_link": true
    },
    "kernelspec": {
      "name": "python3",
      "display_name": "Python 3"
    }
  },
  "cells": [
    {
      "cell_type": "markdown",
      "metadata": {
        "id": "view-in-github",
        "colab_type": "text"
      },
      "source": [
        "<a href=\"https://colab.research.google.com/github/singwang-cn/Hajimeteno_pr/blob/master/ex6_1.ipynb\" target=\"_parent\"><img src=\"https://colab.research.google.com/assets/colab-badge.svg\" alt=\"Open In Colab\"/></a>"
      ]
    },
    {
      "cell_type": "code",
      "metadata": {
        "id": "nAj8QjQVuc80",
        "colab_type": "code",
        "colab": {}
      },
      "source": [
        "import numpy as np\n",
        "import matplotlib.pyplot as plt\n",
        "from sklearn import datasets\n",
        "import random"
      ],
      "execution_count": 178,
      "outputs": []
    },
    {
      "cell_type": "code",
      "metadata": {
        "id": "TEJMqSKnvIF5",
        "colab_type": "code",
        "colab": {}
      },
      "source": [
        "iris_data = datasets.load_iris()"
      ],
      "execution_count": null,
      "outputs": []
    },
    {
      "cell_type": "code",
      "metadata": {
        "id": "CmMrEh1hvSPE",
        "colab_type": "code",
        "colab": {}
      },
      "source": [
        "rand_sample1 = np.array([[random.uniform(-4,1), random.uniform(-2,4),1] for i in range(100)]).T\n",
        "rand_sample2 = np.array([[random.uniform(-1,4), random.uniform(-2,4),1] for i in range(100)]).T\n",
        "rand_sample3 = np.array([[random.uniform(-3,3), random.uniform(-4,0),1] for i in range(100)]).T\n",
        "rand_sample = np.concatenate((rand_sample1,rand_sample2,rand_sample3),axis=1)\n",
        "rand_target = np.concatenate((np.zeros(100),np.zeros(100)+1.0,np.zeros(100)+2.0),axis=0)"
      ],
      "execution_count": 179,
      "outputs": []
    },
    {
      "cell_type": "code",
      "metadata": {
        "id": "vBDwpFzAzM8W",
        "colab_type": "code",
        "colab": {}
      },
      "source": [
        "class linear_normal_equation():\n",
        "\n",
        "  def train(self, x, t):\n",
        "    self.X = np.matrix(x)\n",
        "    t_onehot = []\n",
        "    for i in t:\n",
        "      tmp = np.zeros(int(max(t))+1)\n",
        "      tmp[int(i)] = 1\n",
        "      t_onehot.append(tmp)\n",
        "    self.T = np.matrix(t_onehot)\n",
        "    self.W = (self.X * self.X.T).I * self.X * self.T\n",
        "  def recognize_max(self, x):\n",
        "    self.x = np.matrix(x)\n",
        "    Y = self.x * self.W\n",
        "    return np.argmax(Y, axis=1)"
      ],
      "execution_count": 180,
      "outputs": []
    },
    {
      "cell_type": "code",
      "metadata": {
        "id": "PXCg8RB2TiQY",
        "colab_type": "code",
        "colab": {}
      },
      "source": [
        "lne = linear_normal_equation()"
      ],
      "execution_count": 181,
      "outputs": []
    },
    {
      "cell_type": "code",
      "metadata": {
        "id": "Ha4ZdnYvY9DG",
        "colab_type": "code",
        "colab": {}
      },
      "source": [
        "lne.train(rand_sample, rand_target)"
      ],
      "execution_count": 182,
      "outputs": []
    },
    {
      "cell_type": "code",
      "metadata": {
        "id": "v2Ndkbkp0REO",
        "colab_type": "code",
        "colab": {
          "base_uri": "https://localhost:8080/",
          "height": 34
        },
        "outputId": "36397f6e-3443-4248-a5d1-74a45a03a6fb"
      },
      "source": [
        "rand_target[150]"
      ],
      "execution_count": 183,
      "outputs": [
        {
          "output_type": "execute_result",
          "data": {
            "text/plain": [
              "1.0"
            ]
          },
          "metadata": {
            "tags": []
          },
          "execution_count": 183
        }
      ]
    },
    {
      "cell_type": "code",
      "metadata": {
        "id": "4UCS3zLpbgew",
        "colab_type": "code",
        "colab": {
          "base_uri": "https://localhost:8080/",
          "height": 34
        },
        "outputId": "7da29f3e-1b3a-48a6-8195-2f3cfb4d3ac2"
      },
      "source": [
        "lne.recognize_max(rand_sample.T[150])"
      ],
      "execution_count": 184,
      "outputs": [
        {
          "output_type": "execute_result",
          "data": {
            "text/plain": [
              "matrix([[0]])"
            ]
          },
          "metadata": {
            "tags": []
          },
          "execution_count": 184
        }
      ]
    },
    {
      "cell_type": "code",
      "metadata": {
        "id": "OBV63VPJQI3S",
        "colab_type": "code",
        "colab": {}
      },
      "source": [
        "def boundary(w, x, y):\n",
        "  w1 = w.T[0]\n",
        "  w2 = w.T[1]\n",
        "  w3 = w.T[2]\n",
        "\n",
        "  z = np.empty((len(x),len(y)),dtype='float')\n",
        "  for i in range(len(y)):\n",
        "    for j in range(len(x)):\n",
        "      x_v = np.matrix([x[j],y[i],1]).T\n",
        "      z[i][j] = (w1-w2) * x_v\n",
        "        z[i][j] = (w2-w3) * x_v\n",
        "        z[i][j] = (w3-w1) * x_v\n",
        "\n",
        "  '''\n",
        "  z2 = np.empty((len(x),len(y)),dtype='float')\n",
        "  for i in range(len(y)):\n",
        "    for j in range(len(x)):\n",
        "      x_v = np.matrix([x[j],y[i],1]).T\n",
        "      z2[i][j] = (w2-w3) * x_v\n",
        "  z3 = np.empty((len(x),len(y)),dtype='float')\n",
        "  for i in range(len(y)):\n",
        "    for j in range(len(x)):\n",
        "      x_v = np.matrix([x[j],y[i],1]).T\n",
        "      z3[i][j] = (w3-w1) *x_v\n",
        "  '''\n",
        "  \n",
        "  return  z"
      ],
      "execution_count": 173,
      "outputs": []
    },
    {
      "cell_type": "code",
      "metadata": {
        "id": "fZdHApLyyke7",
        "colab_type": "code",
        "colab": {
          "base_uri": "https://localhost:8080/",
          "height": 331
        },
        "outputId": "53e11b8d-5144-460e-ee18-91c382d39f45"
      },
      "source": [
        "plt.title(\"Random Sample\")\n",
        "plt.xlim(-4.4, 4.4)\n",
        "plt.ylim(-4.4, 4.4)\n",
        "plt.scatter(rand_sample[0], rand_sample[1], c=rand_target, marker='2')\n",
        "x = np.arange(-4, 4, 0.1)\n",
        "y = np.arange(-4, 4, 0.1)\n",
        "z = boundary(lne.W, x, y)\n",
        "contour = plt.contour(x, y, z, [0])\n",
        "#contour = plt.contour(x, y, z2, [0])\n",
        "#contour = plt.contour(x, y, z3, [0])\n",
        "plt.clabel(contour, colors=('k'))"
      ],
      "execution_count": 175,
      "outputs": [
        {
          "output_type": "stream",
          "text": [
            "/usr/local/lib/python3.6/dist-packages/ipykernel_launcher.py:8: UserWarning: No contour levels were found within the data range.\n",
            "  \n"
          ],
          "name": "stderr"
        },
        {
          "output_type": "execute_result",
          "data": {
            "text/plain": [
              "<a list of 0 text.Text objects>"
            ]
          },
          "metadata": {
            "tags": []
          },
          "execution_count": 175
        },
        {
          "output_type": "display_data",
          "data": {
            "image/png": "[encoded data removed]",
            "text/plain": [
              "<Figure size 432x288 with 1 Axes>"
            ]
          },
          "metadata": {
            "tags": [],
            "needs_background": "light"
          }
        }
      ]
    },
    {
      "cell_type": "code",
      "metadata": {
        "id": "E9_rzSseb5Ae",
        "colab_type": "code",
        "colab": {
          "base_uri": "https://localhost:8080/",
          "height": 67
        },
        "outputId": "e486e424-4717-464f-ed4a-bde46bbcf8f5"
      },
      "source": [
        "lne.W"
      ],
      "execution_count": 108,
      "outputs": [
        {
          "output_type": "execute_result",
          "data": {
            "text/plain": [
              "matrix([[-0.0488877 ,  0.03044156,  0.01844614],\n",
              "        [ 0.04396183,  0.00667845, -0.05064029],\n",
              "        [ 0.34480092,  0.33754287,  0.31765621]])"
            ]
          },
          "metadata": {
            "tags": []
          },
          "execution_count": 108
        }
      ]
    }
  ]
}