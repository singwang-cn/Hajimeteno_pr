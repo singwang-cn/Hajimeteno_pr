{
  "nbformat": 4,
  "nbformat_minor": 0,
  "metadata": {
    "colab": {
      "name": "ex5_1.ipynb",
      "provenance": [],
      "mount_file_id": "10yjTqMZUSuDApQuOI5sTiBUKBYnrjY28",
      "authorship_tag": "ABX9TyPxOKmbHQGqGbcOPUTrk5Fi",
      "include_colab_link": true
    },
    "kernelspec": {
      "name": "python3",
      "display_name": "Python 3"
    }
  },
  "cells": [
    {
      "cell_type": "markdown",
      "metadata": {
        "id": "view-in-github",
        "colab_type": "text"
      },
      "source": [
        "<a href=\"https://colab.research.google.com/github/singwang-cn/Hajimeteno_pr/blob/master/ex5_1.ipynb\" target=\"_parent\"><img src=\"https://colab.research.google.com/assets/colab-badge.svg\" alt=\"Open In Colab\"/></a>"
      ]
    },
    {
      "cell_type": "code",
      "metadata": {
        "id": "rpwTnFFs1HjK",
        "colab_type": "code",
        "colab": {}
      },
      "source": [
        "import struct\n",
        "import random\n",
        "import numpy as np\n",
        "import matplotlib.pyplot as plt"
      ],
      "execution_count": 0,
      "outputs": []
    },
    {
      "cell_type": "markdown",
      "metadata": {
        "id": "wbmON1pHPpRZ",
        "colab_type": "text"
      },
      "source": [
        "\n",
        "# 1st step: anlysing the original binary data files\n",
        "\n",
        "**The data set used here is from [THE MNIST DATABASE](http://yann.lecun.com/exdb/mnist/)\n",
        "\n",
        "\n",
        "\n",
        "\n",
        "\n",
        "\n",
        "\n",
        "\n",
        "\n",
        "\n"
      ]
    },
    {
      "cell_type": "markdown",
      "metadata": {
        "id": "BWzlDyY3QfWv",
        "colab_type": "text"
      },
      "source": [
        "The function used to load data in the files"
      ]
    },
    {
      "cell_type": "code",
      "metadata": {
        "id": "nOTcpYQhKrlD",
        "colab_type": "code",
        "colab": {}
      },
      "source": [
        "def load_image(datafile=''):\n",
        "  path = '/content/drive/My Drive/Dataset/mnist dataset/'+datafile\n",
        "  data = open(path, 'rb').read()\n",
        "  magic_number, num_image, num_row, num_col = struct.unpack_from('>iiii', data, 0)\n",
        "  offset = 16\n",
        "  image_list = []\n",
        "  for i in range(num_image):\n",
        "    image = np.array(struct.unpack_from('>'+str(num_row*num_col)+'B', data, offset)).reshape(num_row,num_col)\n",
        "    image_list.append(image)\n",
        "    offset += int(num_row*num_col)\n",
        "  return image_list"
      ],
      "execution_count": 0,
      "outputs": []
    },
    {
      "cell_type": "code",
      "metadata": {
        "id": "AzvMxh6q0tNU",
        "colab_type": "code",
        "colab": {}
      },
      "source": [
        "def load_label(datafile=''):\n",
        "  path = '/content/drive/My Drive/Dataset/mnist dataset/'+datafile\n",
        "  data = open(path, 'rb').read()\n",
        "  magic_number, num_label = struct.unpack_from('>ii', data, 0)\n",
        "  offset = 8\n",
        "  label_list = []\n",
        "  for i in range(num_label):\n",
        "    label = struct.unpack_from('>B', data, offset)\n",
        "    label_list.append(label[0])\n",
        "    offset += 1\n",
        "  return label_list"
      ],
      "execution_count": 0,
      "outputs": []
    },
    {
      "cell_type": "markdown",
      "metadata": {
        "id": "xkUMM6PaRB4c",
        "colab_type": "text"
      },
      "source": [
        "The complete data set in arrays"
      ]
    },
    {
      "cell_type": "code",
      "metadata": {
        "id": "xe1fbrzHzVS9",
        "colab_type": "code",
        "colab": {}
      },
      "source": [
        "image_train = load_image('train-images.idx3-ubyte')\n",
        "label_train = load_label('train-labels.idx1-ubyte')\n",
        "image_test = load_image('t10k-images.idx3-ubyte')\n",
        "label_test = load_label('t10k-labels.idx1-ubyte')"
      ],
      "execution_count": 0,
      "outputs": []
    },
    {
      "cell_type": "markdown",
      "metadata": {
        "id": "HDX1aOT_RYeQ",
        "colab_type": "text"
      },
      "source": [
        "# 2nd step: Implement of nearest neighbor method"
      ]
    },
    {
      "cell_type": "code",
      "metadata": {
        "id": "c-t3r5q5HqRE",
        "colab_type": "code",
        "colab": {}
      },
      "source": [
        "def nearest_neighbor_method(test_image, template_image, template_label):\n",
        "  distance_from_classes = [0 for i in range(10)]\n",
        "  class_iterator = 0\n",
        "  for i in range(len(template_image)):\n",
        "    class_iterator = template_label[i]\n",
        "    square_distance = sum(np.square(template_image[i].flatten() - test_image.flatten()))\n",
        "    if square_distance < distance_from_classes[class_iterator] or distance_from_classes[class_iterator] == 0:\n",
        "      distance_from_classes[class_iterator] = square_distance\n",
        "  result = distance_from_classes.index(min(distance_from_classes))\n",
        "  return result"
      ],
      "execution_count": 0,
      "outputs": []
    },
    {
      "cell_type": "markdown",
      "metadata": {
        "id": "m-3WQRgnRzgn",
        "colab_type": "text"
      },
      "source": [
        "# 3rd step: Test"
      ]
    },
    {
      "cell_type": "markdown",
      "metadata": {
        "id": "X5yka2cSSU3K",
        "colab_type": "text"
      },
      "source": [
        "minimize the training data set to reduce the time spent by computation"
      ]
    },
    {
      "cell_type": "code",
      "metadata": {
        "id": "jqSjQ8TOC7DG",
        "colab_type": "code",
        "colab": {}
      },
      "source": [
        "total_data_train = [[image_train[i],label_train[i]] for i in range(len(image_train))]\n",
        "mini_data_train = random.sample(total_data_train, 6000)\n",
        "mini_image_train, mini_label_train = [data[0] for data in mini_data_train], [data[1] for data in mini_data_train]\n",
        "total_data_test = [[image_test[i],label_test[i]] for i in range(len(image_test))]\n",
        "mini_data_test = random.sample(total_data_test, 1000)\n",
        "mini_image_test, mini_label_test = [data[0] for data in mini_data_test], [data[1] for data in mini_data_test]"
      ],
      "execution_count": 0,
      "outputs": []
    },
    {
      "cell_type": "markdown",
      "metadata": {
        "id": "9J_tfrOjTCJP",
        "colab_type": "text"
      },
      "source": [
        "choose a sample to comfirm whether the NN method works"
      ]
    },
    {
      "cell_type": "code",
      "metadata": {
        "id": "TpUpH7gPGixj",
        "colab_type": "code",
        "colab": {
          "base_uri": "https://localhost:8080/",
          "height": 282
        },
        "outputId": "ef32e15f-15b4-48fc-b593-019928783fc1"
      },
      "source": [
        "plt.imshow(mini_image_test[555])"
      ],
      "execution_count": 45,
      "outputs": [
        {
          "output_type": "execute_result",
          "data": {
            "text/plain": [
              "<matplotlib.image.AxesImage at 0x7f8069560390>"
            ]
          },
          "metadata": {
            "tags": []
          },
          "execution_count": 45
        },
        {
          "output_type": "display_data",
          "data": {
            "image/png": "[encoded data removed]",
            "text/plain": [
              "<Figure size 432x288 with 1 Axes>"
            ]
          },
          "metadata": {
            "tags": [],
            "needs_background": "light"
          }
        }
      ]
    },
    {
      "cell_type": "code",
      "metadata": {
        "id": "GmXmVUD2MyV8",
        "colab_type": "code",
        "colab": {
          "base_uri": "https://localhost:8080/",
          "height": 34
        },
        "outputId": "f172f8c9-5834-42d0-f94d-ab3c848f8a10"
      },
      "source": [
        "nearest_neighbor_method(mini_image_test[555], mini_image_train, mini_label_train)"
      ],
      "execution_count": 46,
      "outputs": [
        {
          "output_type": "execute_result",
          "data": {
            "text/plain": [
              "6"
            ]
          },
          "metadata": {
            "tags": []
          },
          "execution_count": 46
        }
      ]
    },
    {
      "cell_type": "markdown",
      "metadata": {
        "id": "AZOFY4D4TVcZ",
        "colab_type": "text"
      },
      "source": [
        "began test processing"
      ]
    },
    {
      "cell_type": "code",
      "metadata": {
        "id": "C_dbKsRtbw5E",
        "colab_type": "code",
        "colab": {
          "base_uri": "https://localhost:8080/",
          "height": 50
        },
        "outputId": "1e790a57-04d5-45c7-d5b5-57079659da8e"
      },
      "source": [
        "correct = 0\n",
        "for i in range(len(mini_image_test)):\n",
        "  if nearest_neighbor_method(mini_image_test[i], mini_image_train, mini_label_train) == mini_label_test[i]:\n",
        "    correct += 1\n",
        "accuracy = correct/len(mini_image_test)\n",
        "print(\"ErrorRate: {:.2%}\\nAccutacy: {:.2%}\".format(1-accuracy,accuracy))"
      ],
      "execution_count": 50,
      "outputs": [
        {
          "output_type": "stream",
          "text": [
            "ErrorRate: 4.90%\n",
            "Accutacy: 95.10%\n"
          ],
          "name": "stdout"
        }
      ]
    }
  ]
}