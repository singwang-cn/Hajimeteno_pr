{
  "nbformat": 4,
  "nbformat_minor": 0,
  "metadata": {
    "colab": {
      "name": "ex5_1.ipynb",
      "provenance": [],
      "mount_file_id": "10yjTqMZUSuDApQuOI5sTiBUKBYnrjY28",
      "authorship_tag": "ABX9TyN0eh1Bj4u60M2e36ru7v26",
      "include_colab_link": true
    },
    "kernelspec": {
      "name": "python3",
      "display_name": "Python 3"
    }
  },
  "cells": [
    {
      "cell_type": "markdown",
      "metadata": {
        "id": "view-in-github",
        "colab_type": "text"
      },
      "source": [
        "<a href=\"https://colab.research.google.com/github/singwang-cn/Hajimeteno_pr/blob/master/ex5_1.ipynb\" target=\"_parent\"><img src=\"https://colab.research.google.com/assets/colab-badge.svg\" alt=\"Open In Colab\"/></a>"
      ]
    },
    {
      "cell_type": "code",
      "metadata": {
        "id": "rpwTnFFs1HjK",
        "colab_type": "code",
        "colab": {}
      },
      "source": [
        "import struct\n",
        "import numpy as np\n",
        "import matplotlib.pyplot as plt"
      ],
      "execution_count": 0,
      "outputs": []
    },
    {
      "cell_type": "markdown",
      "metadata": {
        "id": "wbmON1pHPpRZ",
        "colab_type": "text"
      },
      "source": [
        "\n",
        "First step: anlysing the original binary data files\n",
        "\n",
        "**The data set used here is from [THE MNIST DATABASE](http://yann.lecun.com/exdb/mnist/)\n",
        "\n",
        "\n",
        "\n",
        "\n",
        "\n",
        "\n",
        "\n",
        "\n",
        "\n",
        "\n"
      ]
    },
    {
      "cell_type": "code",
      "metadata": {
        "id": "nOTcpYQhKrlD",
        "colab_type": "code",
        "colab": {}
      },
      "source": [
        "def load_image(datafile=''):\n",
        "  path = '/content/drive/My Drive/Dataset/mnist dataset/'+datafile\n",
        "  data = open(path, 'rb').read()\n",
        "  magic_number, num_image, num_row, num_col = struct.unpack_from('>iiii', data, 0)\n",
        "  offset = 16\n",
        "  image_list = []\n",
        "  for i in range(num_image):\n",
        "    image = np.array(struct.unpack_from('>'+str(num_row*num_col)+'B', data, offset)).reshape(num_row,num_col)\n",
        "    image_list.append(image)\n",
        "    offset += int(num_row*num_col)\n",
        "  return image_list"
      ],
      "execution_count": 0,
      "outputs": []
    },
    {
      "cell_type": "code",
      "metadata": {
        "id": "AzvMxh6q0tNU",
        "colab_type": "code",
        "colab": {}
      },
      "source": [
        "def load_label(datafile=''):\n",
        "  path = '/content/drive/My Drive/Dataset/mnist dataset/'+datafile\n",
        "  data = open(path, 'rb').read()\n",
        "  magic_number, num_label = struct.unpack_from('>ii', data, 0)\n",
        "  offset = 8\n",
        "  label_list = []\n",
        "  for i in range(num_label):\n",
        "    label = struct.unpack_from('>B', data, offset)\n",
        "    label_list.append(label[0])\n",
        "    offset += 1\n",
        "  return label_list\n"
      ],
      "execution_count": 0,
      "outputs": []
    },
    {
      "cell_type": "code",
      "metadata": {
        "id": "xe1fbrzHzVS9",
        "colab_type": "code",
        "colab": {}
      },
      "source": [
        "image_train = load_image('train-images.idx3-ubyte')\n",
        "label_train = load_label('train-labels.idx1-ubyte')\n",
        "image_test = load_image('t10k-images.idx3-ubyte')\n",
        "label_test = load_label('t10k-labels.idx1-ubyte')"
      ],
      "execution_count": 0,
      "outputs": []
    },
    {
      "cell_type": "code",
      "metadata": {
        "id": "H5toHDm3k17p",
        "colab_type": "code",
        "colab": {
          "base_uri": "https://localhost:8080/",
          "height": 1000
        },
        "outputId": "fac1aa25-24ce-4d62-8c8f-ab7ee6965566"
      },
      "source": [
        "for i in range(5):\n",
        "  plt.imshow(image_train[i])\n",
        "  plt.show()"
      ],
      "execution_count": 23,
      "outputs": [
        {
          "output_type": "display_data",
          "data": {
            "image/png": "[encoded data removed]",
            "text/plain": [
              "<Figure size 432x288 with 1 Axes>"
            ]
          },
          "metadata": {
            "tags": [],
            "needs_background": "light"
          }
        },
        {
          "output_type": "display_data",
          "data": {
            "image/png": "[encoded data removed]",
            "text/plain": [
              "<Figure size 432x288 with 1 Axes>"
            ]
          },
          "metadata": {
            "tags": [],
            "needs_background": "light"
          }
        },
        {
          "output_type": "display_data",
          "data": {
            "image/png": "[encoded data removed]",
            "text/plain": [
              "<Figure size 432x288 with 1 Axes>"
            ]
          },
          "metadata": {
            "tags": [],
            "needs_background": "light"
          }
        },
        {
          "output_type": "display_data",
          "data": {
            "image/png": "[encoded data removed]",
            "text/plain": [
              "<Figure size 432x288 with 1 Axes>"
            ]
          },
          "metadata": {
            "tags": [],
            "needs_background": "light"
          }
        },
        {
          "output_type": "display_data",
          "data": {
            "image/png": "[encoded data removed]",
            "text/plain": [
              "<Figure size 432x288 with 1 Axes>"
            ]
          },
          "metadata": {
            "tags": [],
            "needs_background": "light"
          }
        }
      ]
    },
    {
      "cell_type": "code",
      "metadata": {
        "id": "uOkHVcFYAVF7",
        "colab_type": "code",
        "colab": {
          "base_uri": "https://localhost:8080/",
          "height": 34
        },
        "outputId": "83bfebd6-42f7-4384-c1f9-dfa83562a36b"
      },
      "source": [
        "label_train[0:5]"
      ],
      "execution_count": 24,
      "outputs": [
        {
          "output_type": "execute_result",
          "data": {
            "text/plain": [
              "[5, 0, 4, 1, 9]"
            ]
          },
          "metadata": {
            "tags": []
          },
          "execution_count": 24
        }
      ]
    },
    {
      "cell_type": "code",
      "metadata": {
        "id": "c-t3r5q5HqRE",
        "colab_type": "code",
        "colab": {}
      },
      "source": [
        "def nearest_neighbor_method(test_image, template_image, template_label):\n",
        "  distance_from_classes = [0 for i in range(10)]\n",
        "  class_iterator = 0\n",
        "  for i in range(len(template_image)):\n",
        "    class_iterator = template_label[i]\n",
        "    square_distance = sum(np.square(template_image[i].flatten() - test_image.flatten()))\n",
        "    if square_distance < distance_from_classes[class_iterator] or distance_from_classes[class_iterator] == 0:\n",
        "      distance_from_classes[class_iterator] = square_distance\n",
        "  result = distance_from_classes.index(min(distance_from_classes))\n",
        "  return result"
      ],
      "execution_count": 0,
      "outputs": []
    },
    {
      "cell_type": "code",
      "metadata": {
        "id": "Y4oq4eFHQABL",
        "colab_type": "code",
        "colab": {
          "base_uri": "https://localhost:8080/",
          "height": 34
        },
        "outputId": "02ab29bb-994f-4a0f-d308-5ad53310cdb6"
      },
      "source": [
        "nearest_neighbor_method(image_test[59], image_train, label_train)"
      ],
      "execution_count": 65,
      "outputs": [
        {
          "output_type": "execute_result",
          "data": {
            "text/plain": [
              "5"
            ]
          },
          "metadata": {
            "tags": []
          },
          "execution_count": 65
        }
      ]
    },
    {
      "cell_type": "code",
      "metadata": {
        "id": "AOYWUzjWWakz",
        "colab_type": "code",
        "colab": {
          "base_uri": "https://localhost:8080/",
          "height": 282
        },
        "outputId": "9ebba453-6a16-4cce-fea1-7cfd4fd8db18"
      },
      "source": [
        "plt.imshow(image_test[59])"
      ],
      "execution_count": 64,
      "outputs": [
        {
          "output_type": "execute_result",
          "data": {
            "text/plain": [
              "<matplotlib.image.AxesImage at 0x7f5a47cb4978>"
            ]
          },
          "metadata": {
            "tags": []
          },
          "execution_count": 64
        },
        {
          "output_type": "display_data",
          "data": {
            "image/png": "[encoded data removed]",
            "text/plain": [
              "<Figure size 432x288 with 1 Axes>"
            ]
          },
          "metadata": {
            "tags": [],
            "needs_background": "light"
          }
        }
      ]
    },
    {
      "cell_type": "code",
      "metadata": {
        "id": "C_dbKsRtbw5E",
        "colab_type": "code",
        "colab": {}
      },
      "source": [
        "correct = 0\n",
        "incorrect = 0\n",
        "for i in range(len(image_test):\n"
      ],
      "execution_count": 0,
      "outputs": []
    }
  ]
}