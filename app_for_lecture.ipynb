{
  "nbformat": 4,
  "nbformat_minor": 0,
  "metadata": {
    "colab": {
      "name": "app_for_lecture.ipynb",
      "provenance": [],
      "mount_file_id": "1oGBy5bVo02b52q3WD-iFvTJznoEGA6X4",
      "authorship_tag": "ABX9TyMHzQmmb6wMoJD/UufbLKCa",
      "include_colab_link": true
    },
    "kernelspec": {
      "name": "python3",
      "display_name": "Python 3"
    }
  },
  "cells": [
    {
      "cell_type": "markdown",
      "metadata": {
        "id": "view-in-github",
        "colab_type": "text"
      },
      "source": [
        "<a href=\"https://colab.research.google.com/github/singwang-cn/Hajimeteno_pr/blob/master/app_for_lecture.ipynb\" target=\"_parent\"><img src=\"https://colab.research.google.com/assets/colab-badge.svg\" alt=\"Open In Colab\"/></a>"
      ]
    },
    {
      "cell_type": "code",
      "metadata": {
        "id": "-VUoUgdwVunY",
        "colab_type": "code",
        "colab": {}
      },
      "source": [
        "import struct\n",
        "import numpy as np\n",
        "import pandas as pd\n",
        "import matplotlib.pyplot as plt"
      ],
      "execution_count": 0,
      "outputs": []
    },
    {
      "cell_type": "code",
      "metadata": {
        "id": "FDa3dZERYrkA",
        "colab_type": "code",
        "colab": {}
      },
      "source": [
        "def load_image(datafile=''):\n",
        "  path = '/content/drive/My Drive/Dataset/mnist dataset/'+datafile\n",
        "  data = open(path, 'rb').read()\n",
        "  magic_number, num_image, num_row, num_col = struct.unpack_from('>iiii', data, 0)\n",
        "  offset = 16\n",
        "  image_list = []\n",
        "  for i in range(num_image):\n",
        "    image = np.array(struct.unpack_from('>'+str(num_row*num_col)+'B', data, offset)).reshape(num_row,num_col)\n",
        "    image_list.append(image)\n",
        "    offset += int(num_row*num_col)\n",
        "  return image_list\n",
        "\n",
        "def load_label(datafile=''):\n",
        "  path = '/content/drive/My Drive/Dataset/mnist dataset/'+datafile\n",
        "  data = open(path, 'rb').read()\n",
        "  magic_number, num_label = struct.unpack_from('>ii', data, 0)\n",
        "  offset = 8\n",
        "  label_list = []\n",
        "  for i in range(num_label):\n",
        "    label = struct.unpack_from('>B', data, offset)\n",
        "    label_list.append(label[0])\n",
        "    offset += 1\n",
        "  return label_list\n",
        "\n",
        "image = load_image('t10k-images.idx3-ubyte')\n",
        "label = load_label('t10k-labels.idx1-ubyte')\n",
        "\n",
        "image_train = image[0:8000]\n",
        "label_train = label[0:8000]\n",
        "image_test = image[8000:10000]\n",
        "label_test = label[8000:10000]"
      ],
      "execution_count": 0,
      "outputs": []
    },
    {
      "cell_type": "code",
      "metadata": {
        "id": "fCwHPRKqgtmk",
        "colab_type": "code",
        "colab": {}
      },
      "source": [
        "class image_with_label():\n",
        "  def __init__(self, image, label):\n",
        "    self.image = image\n",
        "    self.label = label\n",
        "  def show(self):\n",
        "    plt.imshow(self.image)\n",
        "    print(\"Label: {}\".format(self.label))"
      ],
      "execution_count": 0,
      "outputs": []
    },
    {
      "cell_type": "code",
      "metadata": {
        "id": "GApl5LRXYvhS",
        "colab_type": "code",
        "colab": {}
      },
      "source": [
        "class k_nearest_neighbors():\n",
        "  def __init__(self, k=3):\n",
        "    self.k = k\n",
        "  def get_template(self, data, label):\n",
        "    self.template = [image_with_label(data[i],label[i]) for i in range(len(data))]\n",
        "  def recognize(self, data):\n",
        "    self.vote_list = [0 for i in range(10)]\n",
        "    self.distance_of_all = [[sum(np.square(self.template[i].image.flatten() - data.flatten())),i] for i in range(len(self.template))]\n",
        "    self.class_iterator = 0\n",
        "    self.sorted_distance = sorted(self.distance_of_all, key=lambda x:x[0])\n",
        "\n",
        "    for i in range(self.k):\n",
        "      self.vote_list[self.template[self.sorted_distance[i][1]].label] += 1\n",
        "    result = self.vote_list.index(max(self.vote_list))\n",
        "    return result\n"
      ],
      "execution_count": 0,
      "outputs": []
    },
    {
      "cell_type": "code",
      "metadata": {
        "id": "Ky0sOIsjfLR1",
        "colab_type": "code",
        "colab": {}
      },
      "source": [
        "knn = k_nearest_neighbors()\n",
        "knn.get_template(image_train, label_train)"
      ],
      "execution_count": 0,
      "outputs": []
    },
    {
      "cell_type": "code",
      "metadata": {
        "id": "-mQOWRmOinoE",
        "colab_type": "code",
        "outputId": "8098965e-f926-4d82-d82b-a9dfc4e131c1",
        "colab": {
          "base_uri": "https://localhost:8080/",
          "height": 34
        }
      },
      "source": [
        "knn.recognize(image_test[10])"
      ],
      "execution_count": 0,
      "outputs": [
        {
          "output_type": "execute_result",
          "data": {
            "text/plain": [
              "3"
            ]
          },
          "metadata": {
            "tags": []
          },
          "execution_count": 33
        }
      ]
    },
    {
      "cell_type": "code",
      "metadata": {
        "id": "EAv6Uq9ajAWS",
        "colab_type": "code",
        "outputId": "c24faa02-ac38-4fba-efa7-285eb4b375a8",
        "colab": {
          "base_uri": "https://localhost:8080/",
          "height": 282
        }
      },
      "source": [
        "plt.imshow(image_test[10])"
      ],
      "execution_count": 0,
      "outputs": [
        {
          "output_type": "execute_result",
          "data": {
            "text/plain": [
              "<matplotlib.image.AxesImage at 0x7f8c14bbc0b8>"
            ]
          },
          "metadata": {
            "tags": []
          },
          "execution_count": 34
        },
        {
          "output_type": "display_data",
          "data": {
            "image/png": "[encoded data removed]",
            "text/plain": [
              "<Figure size 432x288 with 1 Axes>"
            ]
          },
          "metadata": {
            "tags": [],
            "needs_background": "light"
          }
        }
      ]
    },
    {
      "cell_type": "code",
      "metadata": {
        "id": "T4IqeaxYjbn_",
        "colab_type": "code",
        "outputId": "e485d139-4ee4-4b03-e5fb-5209ad6d2df9",
        "colab": {
          "base_uri": "https://localhost:8080/",
          "height": 34
        }
      },
      "source": [
        "error = 0\n",
        "for i in range(100):\n",
        "  if knn.recognize(image_test[i]) != label_test[i]: error += 1\n",
        "error/100"
      ],
      "execution_count": 0,
      "outputs": [
        {
          "output_type": "execute_result",
          "data": {
            "text/plain": [
              "0.03"
            ]
          },
          "metadata": {
            "tags": []
          },
          "execution_count": 32
        }
      ]
    },
    {
      "cell_type": "code",
      "metadata": {
        "id": "HmNxUqxdCCUE",
        "colab_type": "code",
        "colab": {}
      },
      "source": [
        "def ragularize_image(image):\n",
        "  length = 14\n",
        "  scale = image.shape[0]/length\n",
        "  out_image = np.zeros([length, length])\n",
        "\n",
        "  for i in range(length):\n",
        "    for j in range(length):\n",
        "      out_image[i][j] = image[int(i*scale)][int(j*scale)]\n",
        "\n",
        "  return out_image\n"
      ],
      "execution_count": 0,
      "outputs": []
    },
    {
      "cell_type": "code",
      "metadata": {
        "id": "nAhc1nh7CNbN",
        "colab_type": "code",
        "colab": {
          "base_uri": "https://localhost:8080/",
          "height": 282
        },
        "outputId": "338d21d7-c5e8-4730-d18f-17774b090bf5"
      },
      "source": [
        "plt.imshow(ragularize_image(image_test[2]))"
      ],
      "execution_count": 12,
      "outputs": [
        {
          "output_type": "execute_result",
          "data": {
            "text/plain": [
              "<matplotlib.image.AxesImage at 0x7f7f7b6ffb38>"
            ]
          },
          "metadata": {
            "tags": []
          },
          "execution_count": 12
        },
        {
          "output_type": "display_data",
          "data": {
            "image/png": "[encoded data removed]",
            "text/plain": [
              "<Figure size 432x288 with 1 Axes>"
            ]
          },
          "metadata": {
            "tags": [],
            "needs_background": "light"
          }
        }
      ]
    },
    {
      "cell_type": "code",
      "metadata": {
        "id": "mB1_9CYOCZK8",
        "colab_type": "code",
        "colab": {
          "base_uri": "https://localhost:8080/",
          "height": 282
        },
        "outputId": "247203ff-add6-4d75-eac9-ef3c1b03385d"
      },
      "source": [
        "plt.imshow(image_test[2])"
      ],
      "execution_count": 11,
      "outputs": [
        {
          "output_type": "execute_result",
          "data": {
            "text/plain": [
              "<matplotlib.image.AxesImage at 0x7f7f7b7a79e8>"
            ]
          },
          "metadata": {
            "tags": []
          },
          "execution_count": 11
        },
        {
          "output_type": "display_data",
          "data": {
            "image/png": "[encoded data removed]",
            "text/plain": [
              "<Figure size 432x288 with 1 Axes>"
            ]
          },
          "metadata": {
            "tags": [],
            "needs_background": "light"
          }
        }
      ]
    }
  ]
}