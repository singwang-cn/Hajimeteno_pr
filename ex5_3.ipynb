{
  "nbformat": 4,
  "nbformat_minor": 0,
  "metadata": {
    "colab": {
      "name": "ex5_3.ipynb",
      "provenance": [],
      "collapsed_sections": [],
      "mount_file_id": "104Wb_6QIZ7GZMrpTOD23j3jqX-hND85g",
      "authorship_tag": "ABX9TyOadPFvVgVz8+5kVqvdu9s9",
      "include_colab_link": true
    },
    "kernelspec": {
      "name": "python3",
      "display_name": "Python 3"
    }
  },
  "cells": [
    {
      "cell_type": "markdown",
      "metadata": {
        "id": "view-in-github",
        "colab_type": "text"
      },
      "source": [
        "<a href=\"https://colab.research.google.com/github/singwang-cn/Hajimeteno_pr/blob/master/ex5_3.ipynb\" target=\"_parent\"><img src=\"https://colab.research.google.com/assets/colab-badge.svg\" alt=\"Open In Colab\"/></a>"
      ]
    },
    {
      "cell_type": "code",
      "metadata": {
        "id": "WRfoldIfQY4U",
        "colab_type": "code",
        "colab": {}
      },
      "source": [
        "import numpy as np\n",
        "import pandas as pd\n",
        "import matplotlib.pyplot as plt\n",
        "from sklearn.neighbors import KNeighborsClassifier\n",
        "from sklearn.model_selection import LeaveOneOut"
      ],
      "execution_count": 0,
      "outputs": []
    },
    {
      "cell_type": "markdown",
      "metadata": {
        "id": "iB9M3kQgLTyP",
        "colab_type": "text"
      },
      "source": [
        "rewrite the k_nearest_neighbors function in ex5_2 as a class"
      ]
    },
    {
      "cell_type": "code",
      "metadata": {
        "id": "qRc61ANkTkF8",
        "colab_type": "code",
        "colab": {}
      },
      "source": [
        "class k_nearest_neighbors():\n",
        "  def __init__(self, k=3, class_num=2):\n",
        "    self.k = k\n",
        "    self.class_num = class_num\n",
        "  def get_template(self, data, label):\n",
        "    self.template = [[data[i],label[i]] for i in range(label.size)]\n",
        "  def recognize(self, data):\n",
        "    self.vote_list = [0 for i in range(self.class_num)]\n",
        "    self.distance_of_all = [[sum(np.square(self.template[i][0] - data)),i] for i in range(len(self.template))]\n",
        "    self.class_iterator = 0\n",
        "    self.sorted_distance = sorted(self.distance_of_all, key=lambda x:x[0])\n",
        "\n",
        "    for i in range(self.k):\n",
        "      self.vote_list[self.template[self.sorted_distance[i][1]][1]] += 1\n",
        "    if self.vote_list[0] == self.vote_list[1]:\n",
        "      return -1\n",
        "    else:\n",
        "      return self.vote_list.index(max(self.vote_list))"
      ],
      "execution_count": 0,
      "outputs": []
    },
    {
      "cell_type": "markdown",
      "metadata": {
        "id": "ZvM3AnMGLreI",
        "colab_type": "text"
      },
      "source": [
        "Test with whole Pima Indians Diabetes Database"
      ]
    },
    {
      "cell_type": "code",
      "metadata": {
        "id": "iJ2NdgQ_S0Oi",
        "colab_type": "code",
        "colab": {}
      },
      "source": [
        "data_path = '/content/drive/My Drive/Dataset/diabetes.csv'\n",
        "pima = pd.read_csv(data_path)\n",
        "pima_label = np.array(pima['Outcome'].tolist())\n",
        "pima_nolabel = pima.drop(columns=['Outcome'])\n",
        "pima_data = ((pima_nolabel-pima_nolabel.mean())/pima_nolabel.std()).values"
      ],
      "execution_count": 0,
      "outputs": []
    },
    {
      "cell_type": "code",
      "metadata": {
        "id": "hw9yzdz-T2uM",
        "colab_type": "code",
        "colab": {}
      },
      "source": [
        "loo = LeaveOneOut()\n",
        "error_list = []\n",
        "reject_list = []\n",
        "for j in range(60):\n",
        "  error = 0\n",
        "  reject = 0\n",
        "  knn = k_nearest_neighbors(k=j+1)\n",
        "  for i_tr, i_te in loo.split(pima_data):\n",
        "    knn.get_template(pima_data[i_tr], pima_label[i_tr])\n",
        "    result = knn.recognize(pima_data[i_te[0]])\n",
        "    if result == -1:\n",
        "      reject += 1\n",
        "    elif result != pima_label[i]:\n",
        "      error += 1\n",
        "  print(\"error: {:.2%}\\treject: {:.2%}\".format(error/len(pima_label),reject/len(pima_label)))\n",
        "  error_list.append(error/len(pima_label))\n",
        "  reject_list.append(reject/len(pima_label))"
      ],
      "execution_count": 0,
      "outputs": []
    },
    {
      "cell_type": "markdown",
      "metadata": {
        "id": "EqeouQNQNtW_",
        "colab_type": "text"
      },
      "source": [
        "Visualization of result"
      ]
    },
    {
      "cell_type": "code",
      "metadata": {
        "id": "S7D-rx4LqA76",
        "colab_type": "code",
        "colab": {}
      },
      "source": [
        "error_rate_odd = error_list[0: 59: 2]\n",
        "error_rate_even = error_list[1: 60: 2]\n",
        "k_odd = np.arange(0, 59, 2)\n",
        "k_even = np.arange(1, 60, 2)\n",
        "reject_rate_even = reject_list[1: 60: 2]"
      ],
      "execution_count": 0,
      "outputs": []
    },
    {
      "cell_type": "code",
      "metadata": {
        "id": "TJR3LzqHci3K",
        "colab_type": "code",
        "colab": {
          "base_uri": "https://localhost:8080/",
          "height": 312
        },
        "outputId": "94bb53f8-a427-479d-d3e5-0f6090ddb17d"
      },
      "source": [
        "plt.figure(\"error rate and k with pima data set\")\n",
        "plt.title(\"error rate and k with pima data set\")\n",
        "plt.scatter(k_odd, error_rate_odd, marker='+', color='black', label='k is odd')\n",
        "plt.scatter(k_even, error_rate_even, marker='o', color='red', label='k is even')\n",
        "plt.xlabel('k')\n",
        "plt.xticks([0,10,20,30,40,50,60])\n",
        "plt.ylabel('error rate')\n",
        "plt.legend()"
      ],
      "execution_count": 166,
      "outputs": [
        {
          "output_type": "execute_result",
          "data": {
            "text/plain": [
              "<matplotlib.legend.Legend at 0x7ff4dc1f7390>"
            ]
          },
          "metadata": {
            "tags": []
          },
          "execution_count": 166
        },
        {
          "output_type": "display_data",
          "data": {
            "image/png": "[encoded data removed]",
            "text/plain": [
              "<Figure size 432x288 with 1 Axes>"
            ]
          },
          "metadata": {
            "tags": [],
            "needs_background": "light"
          }
        }
      ]
    },
    {
      "cell_type": "markdown",
      "metadata": {
        "id": "LHnKsRGuOE17",
        "colab_type": "text"
      },
      "source": [
        "It can easily be seen that the error rate is small when k is even becanuse the reject rate is large. The next chart show the reject rate\n",
        " relating to the number of k."
      ]
    },
    {
      "cell_type": "code",
      "metadata": {
        "id": "yEUxZiZDp2e2",
        "colab_type": "code",
        "colab": {
          "base_uri": "https://localhost:8080/",
          "height": 312
        },
        "outputId": "326031a9-6eef-4e9c-eb12-5d160fe463f2"
      },
      "source": [
        "plt.figure(\"reject rate and k with pima data set\")\n",
        "plt.title(\"reject rate and k with pima data set\")\n",
        "plt.scatter(k_even, reject_rate_even, marker='o', color='black', label='reject')\n",
        "plt.xlabel('k')\n",
        "plt.xticks([0,10,20,30,40,50,60])\n",
        "plt.ylabel('reject rate')\n",
        "plt.legend()"
      ],
      "execution_count": 167,
      "outputs": [
        {
          "output_type": "execute_result",
          "data": {
            "text/plain": [
              "<matplotlib.legend.Legend at 0x7ff4e9e672b0>"
            ]
          },
          "metadata": {
            "tags": []
          },
          "execution_count": 167
        },
        {
          "output_type": "display_data",
          "data": {
            "image/png": "[encoded data removed]",
            "text/plain": [
              "<Figure size 432x288 with 1 Axes>"
            ]
          },
          "metadata": {
            "tags": [],
            "needs_background": "light"
          }
        }
      ]
    }
  ]
}