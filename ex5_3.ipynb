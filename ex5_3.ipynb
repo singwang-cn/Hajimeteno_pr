{
  "nbformat": 4,
  "nbformat_minor": 0,
  "metadata": {
    "colab": {
      "name": "ex5_3.ipynb",
      "provenance": [],
      "collapsed_sections": [],
      "mount_file_id": "104Wb_6QIZ7GZMrpTOD23j3jqX-hND85g",
      "authorship_tag": "ABX9TyMEI75YMj47+i8R3VT0ku4H",
      "include_colab_link": true
    },
    "kernelspec": {
      "name": "python3",
      "display_name": "Python 3"
    }
  },
  "cells": [
    {
      "cell_type": "markdown",
      "metadata": {
        "id": "view-in-github",
        "colab_type": "text"
      },
      "source": [
        "<a href=\"https://colab.research.google.com/github/singwang-cn/Hajimeteno_pr/blob/master/ex5_3.ipynb\" target=\"_parent\"><img src=\"https://colab.research.google.com/assets/colab-badge.svg\" alt=\"Open In Colab\"/></a>"
      ]
    },
    {
      "cell_type": "code",
      "metadata": {
        "id": "WRfoldIfQY4U",
        "colab_type": "code",
        "colab": {}
      },
      "source": [
        "import numpy as np\n",
        "import pandas as pd\n",
        "import matplotlib.pyplot as plt"
      ],
      "execution_count": 0,
      "outputs": []
    },
    {
      "cell_type": "code",
      "metadata": {
        "id": "qRc61ANkTkF8",
        "colab_type": "code",
        "colab": {}
      },
      "source": [
        "class k_nearest_neighbors():\n",
        "  def __init__(self, k=3, class_num=2):\n",
        "    self.k = k\n",
        "    self.class_num = class_num\n",
        "  def get_template(self, data, label):\n",
        "    self.template = [[data[i],label[i]] for i in range(label.size)]\n",
        "  def recognize(self, data):\n",
        "    self.vote_list = [0 for i in range(self.class_num)]\n",
        "    self.distance_of_all = [[sum(np.square(self.template[i][0] - data)),i] for i in range(len(self.template))]\n",
        "    self.class_iterator = 0\n",
        "    self.sorted_distance = sorted(self.distance_of_all, key=lambda x:x[0])\n",
        "\n",
        "    for i in range(self.k):\n",
        "      self.vote_list[self.template[self.sorted_distance[i][1]][1]] += 1\n",
        "    if self.vote_list[0] == self.vote_list[1]:\n",
        "      return -1\n",
        "    else:\n",
        "      return self.vote_list.index(max(self.vote_list))"
      ],
      "execution_count": 0,
      "outputs": []
    },
    {
      "cell_type": "code",
      "metadata": {
        "id": "iJ2NdgQ_S0Oi",
        "colab_type": "code",
        "colab": {}
      },
      "source": [
        "data_path = '/content/drive/My Drive/Dataset/diabetes.csv'\n",
        "pima = pd.read_csv(data_path)\n",
        "pima_tr = pima.sample(n = 200, replace = False)\n",
        "pima_te = pima.sample(n = 300)\n",
        "\n",
        "pima_data = pima.drop(columns=['Outcome'])\n",
        "pima_tr_label = np.array(pima_tr['Outcome'].tolist())\n",
        "pima_tr_nolabel = pima_tr.drop(columns = ['Outcome'])\n",
        "pima_tr_data = ((pima_tr_nolabel-pima_data.mean())/pima_data.std()).values\n",
        "pima_te_label = np.array(pima_te['Outcome'].tolist())\n",
        "pima_te_nolabel = pima_te.drop(columns = ['Outcome'])\n",
        "pima_te_data = ((pima_te_nolabel-pima_data.mean())/pima_data.std()).values"
      ],
      "execution_count": 0,
      "outputs": []
    },
    {
      "cell_type": "code",
      "metadata": {
        "id": "hw9yzdz-T2uM",
        "colab_type": "code",
        "colab": {
          "base_uri": "https://localhost:8080/",
          "height": 1000
        },
        "outputId": "cb78ed09-57fe-4e06-8f5a-275e28a5733e"
      },
      "source": [
        "error_list = []\n",
        "reject_list = []\n",
        "for j in range(60):\n",
        "  knn = k_nearest_neighbors(k=j+1)\n",
        "  knn.get_template(pima_tr_data, pima_tr_label)\n",
        "  error = 0\n",
        "  reject = 0\n",
        "  for i in range(len(pima_te_label)):\n",
        "    result = knn.recognize(pima_te_data[i])\n",
        "    if result == -1:\n",
        "      reject += 1\n",
        "    elif result != pima_te_label[i]:\n",
        "      error += 1\n",
        "  print(\"error: {:.2%}\\treject: {:.2%}\".format(error/len(pima_te_label),reject/len(pima_te_label)))\n",
        "  error_list.append(error/len(pima_te_label))\n",
        "  reject_list.append(reject/len(pima_te_label))"
      ],
      "execution_count": 114,
      "outputs": [
        {
          "output_type": "stream",
          "text": [
            "error: 20.00%\treject: 0.00%\n",
            "error: 8.33%\treject: 33.00%\n",
            "error: 23.00%\treject: 0.00%\n",
            "error: 16.00%\treject: 15.67%\n",
            "error: 23.33%\treject: 0.00%\n",
            "error: 16.33%\treject: 16.67%\n",
            "error: 24.00%\treject: 0.00%\n",
            "error: 18.33%\treject: 16.00%\n",
            "error: 27.00%\treject: 0.00%\n",
            "error: 20.33%\treject: 11.33%\n",
            "error: 27.67%\treject: 0.00%\n",
            "error: 23.33%\treject: 7.67%\n",
            "error: 27.67%\treject: 0.00%\n",
            "error: 24.00%\treject: 8.33%\n",
            "error: 29.00%\treject: 0.00%\n",
            "error: 24.33%\treject: 8.33%\n",
            "error: 28.00%\treject: 0.00%\n",
            "error: 25.67%\treject: 6.00%\n",
            "error: 28.00%\treject: 0.00%\n",
            "error: 23.67%\treject: 7.67%\n",
            "error: 27.67%\treject: 0.00%\n",
            "error: 25.33%\treject: 5.33%\n",
            "error: 28.67%\treject: 0.00%\n",
            "error: 27.33%\treject: 4.00%\n",
            "error: 29.33%\treject: 0.00%\n",
            "error: 26.67%\treject: 5.33%\n",
            "error: 28.33%\treject: 0.00%\n",
            "error: 26.67%\treject: 5.33%\n",
            "error: 29.00%\treject: 0.00%\n",
            "error: 27.67%\treject: 4.00%\n",
            "error: 30.33%\treject: 0.00%\n",
            "error: 29.00%\treject: 3.33%\n",
            "error: 32.00%\treject: 0.00%\n",
            "error: 29.67%\treject: 4.00%\n",
            "error: 31.00%\treject: 0.00%\n",
            "error: 30.67%\treject: 2.67%\n",
            "error: 32.00%\treject: 0.00%\n",
            "error: 31.33%\treject: 2.67%\n",
            "error: 33.00%\treject: 0.00%\n",
            "error: 32.67%\treject: 1.00%\n",
            "error: 33.33%\treject: 0.00%\n",
            "error: 32.33%\treject: 1.67%\n",
            "error: 33.33%\treject: 0.00%\n",
            "error: 32.67%\treject: 0.67%\n",
            "error: 32.67%\treject: 0.00%\n",
            "error: 32.67%\treject: 1.00%\n",
            "error: 33.33%\treject: 0.00%\n",
            "error: 32.67%\treject: 1.00%\n",
            "error: 33.00%\treject: 0.00%\n",
            "error: 32.67%\treject: 0.33%\n",
            "error: 32.67%\treject: 0.00%\n",
            "error: 32.67%\treject: 1.00%\n",
            "error: 33.33%\treject: 0.00%\n",
            "error: 32.67%\treject: 1.33%\n",
            "error: 33.67%\treject: 0.00%\n",
            "error: 33.33%\treject: 1.00%\n",
            "error: 34.00%\treject: 0.00%\n",
            "error: 33.67%\treject: 1.00%\n",
            "error: 34.33%\treject: 0.00%\n",
            "error: 33.33%\treject: 1.67%\n"
          ],
          "name": "stdout"
        }
      ]
    },
    {
      "cell_type": "code",
      "metadata": {
        "id": "S7D-rx4LqA76",
        "colab_type": "code",
        "colab": {}
      },
      "source": [
        "error_rate_odd = error_list[0: 59: 2]\n",
        "error_rate_even = error_list[1: 60: 2]\n",
        "k_odd = np.arange(0, 59, 2)\n",
        "k_even = np.arange(1, 60, 2)\n",
        "reject_rate_even = reject_list[1: 60: 2]"
      ],
      "execution_count": 0,
      "outputs": []
    },
    {
      "cell_type": "code",
      "metadata": {
        "id": "TJR3LzqHci3K",
        "colab_type": "code",
        "colab": {
          "base_uri": "https://localhost:8080/",
          "height": 312
        },
        "outputId": "9f863dbf-1287-4403-d12a-5f8b85c08aea"
      },
      "source": [
        "plt.figure(\"error rate and k with pima data set\")\n",
        "plt.title(\"error rate and k with pima data set\")\n",
        "plt.scatter(k_odd, error_rate_odd, marker='+', color='black', label='k is odd')\n",
        "plt.scatter(k_even, error_rate_even, marker='o', color='red', label='k is even')\n",
        "plt.xlabel('k')\n",
        "plt.xticks([0,10,20,30,40,50,60])\n",
        "plt.ylabel('error rate')\n",
        "plt.legend()"
      ],
      "execution_count": 128,
      "outputs": [
        {
          "output_type": "execute_result",
          "data": {
            "text/plain": [
              "<matplotlib.legend.Legend at 0x7ff4ece27780>"
            ]
          },
          "metadata": {
            "tags": []
          },
          "execution_count": 128
        },
        {
          "output_type": "display_data",
          "data": {
            "image/png": "[encoded data removed]",
            "text/plain": [
              "<Figure size 432x288 with 1 Axes>"
            ]
          },
          "metadata": {
            "tags": [],
            "needs_background": "light"
          }
        }
      ]
    },
    {
      "cell_type": "code",
      "metadata": {
        "id": "yEUxZiZDp2e2",
        "colab_type": "code",
        "colab": {
          "base_uri": "https://localhost:8080/",
          "height": 312
        },
        "outputId": "dbcc4d49-a08f-4ab0-95b2-768ff3a0c5e1"
      },
      "source": [
        "plt.figure(\"reject rate and k with pima data set\")\n",
        "plt.title(\"reject rate and k with pima data set\")\n",
        "plt.scatter(k_even, reject_rate_even, marker='o', color='black', label='reject')\n",
        "plt.xlabel('k')\n",
        "plt.xticks([0,10,20,30,40,50,60])\n",
        "plt.ylabel('reject rate')\n",
        "plt.legend()"
      ],
      "execution_count": 139,
      "outputs": [
        {
          "output_type": "execute_result",
          "data": {
            "text/plain": [
              "<matplotlib.legend.Legend at 0x7ff4e9d16e10>"
            ]
          },
          "metadata": {
            "tags": []
          },
          "execution_count": 139
        },
        {
          "output_type": "display_data",
          "data": {
            "image/png": "[encoded data removed]",
            "text/plain": [
              "<Figure size 432x288 with 1 Axes>"
            ]
          },
          "metadata": {
            "tags": [],
            "needs_background": "light"
          }
        }
      ]
    }
  ]
}