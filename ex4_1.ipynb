{
  "nbformat": 4,
  "nbformat_minor": 0,
  "metadata": {
    "colab": {
      "name": "ex4-1.ipynb",
      "provenance": [],
      "collapsed_sections": [],
      "authorship_tag": "ABX9TyPjX6RDPFMILx2W/D0a2Fwi",
      "include_colab_link": true
    },
    "kernelspec": {
      "name": "python3",
      "display_name": "Python 3"
    }
  },
  "cells": [
    {
      "cell_type": "markdown",
      "metadata": {
        "id": "view-in-github",
        "colab_type": "text"
      },
      "source": [
        "<a href=\"https://colab.research.google.com/github/singwang-cn/Hajimeteno_pr/blob/master/ex4_1.ipynb\" target=\"_parent\"><img src=\"https://colab.research.google.com/assets/colab-badge.svg\" alt=\"Open In Colab\"/></a>"
      ]
    },
    {
      "cell_type": "code",
      "metadata": {
        "id": "9WV2feyVthJt",
        "colab_type": "code",
        "colab": {}
      },
      "source": [
        "import matplotlib.pyplot as plt\n",
        "from sklearn import datasets\n",
        "import torch"
      ],
      "execution_count": 0,
      "outputs": []
    },
    {
      "cell_type": "code",
      "metadata": {
        "id": "JQMT6haayT-j",
        "colab_type": "code",
        "colab": {}
      },
      "source": [
        "#get the dataset"
      ],
      "execution_count": 0,
      "outputs": []
    },
    {
      "cell_type": "code",
      "metadata": {
        "id": "hGA3jEtaxB6O",
        "colab_type": "code",
        "cellView": "code",
        "colab": {}
      },
      "source": [
        "iris_data = datasets.load_iris()"
      ],
      "execution_count": 0,
      "outputs": []
    },
    {
      "cell_type": "code",
      "metadata": {
        "id": "nJj5ImZAzg4q",
        "colab_type": "code",
        "colab": {}
      },
      "source": [
        "#get parameters\n",
        "#x:matrix of data\n",
        "#n:number of entries\n",
        "#u:the average for each column in x\n",
        "#sigma:Covariance matrix　of x"
      ],
      "execution_count": 0,
      "outputs": []
    },
    {
      "cell_type": "code",
      "metadata": {
        "id": "gYt6v-iMxtNs",
        "colab_type": "code",
        "colab": {}
      },
      "source": [
        "x = torch.tensor([iris_data.data[:,2], iris_data.data[:,3]])\n",
        "n = x.size()[1]\n",
        "#u=(3.76, 1.20)\n",
        "u = torch.tensor([[x[0].mean()],[x[1].mean()]])\n",
        "#sig=(3.12, 1.30\n",
        "#  1.30, 0.58)\n",
        "sigma=(x-u).mm((x-u).t())/n"
      ],
      "execution_count": 0,
      "outputs": []
    },
    {
      "cell_type": "code",
      "metadata": {
        "id": "fNuQymX4-gwN",
        "colab_type": "code",
        "colab": {}
      },
      "source": [
        "#normalize the matrix consisting of data"
      ],
      "execution_count": 0,
      "outputs": []
    },
    {
      "cell_type": "code",
      "metadata": {
        "id": "Mlo6X8EhyuEM",
        "colab_type": "code",
        "colab": {}
      },
      "source": [
        "x_normal_0 = (x - u)[0]/(sigma[0, 0]**.5)\n",
        "x_normal_1 = (x - u)[1]/(sigma[1, 1]**.5)"
      ],
      "execution_count": 0,
      "outputs": []
    },
    {
      "cell_type": "code",
      "metadata": {
        "id": "DlIr6lHQ-2Gy",
        "colab_type": "code",
        "colab": {}
      },
      "source": [
        "#class of dataset for visualization"
      ],
      "execution_count": 0,
      "outputs": []
    },
    {
      "cell_type": "code",
      "metadata": {
        "id": "LTEYb-TK_CfC",
        "colab_type": "code",
        "colab": {}
      },
      "source": [
        "species=iris_data.target"
      ],
      "execution_count": 0,
      "outputs": []
    },
    {
      "cell_type": "code",
      "metadata": {
        "id": "r0tG3-V__GMJ",
        "colab_type": "code",
        "colab": {}
      },
      "source": [
        "#visualization"
      ],
      "execution_count": 0,
      "outputs": []
    },
    {
      "cell_type": "code",
      "metadata": {
        "id": "VQak97rj_vNM",
        "colab_type": "code",
        "outputId": "9f89c9ab-4ed6-4f17-ea7e-50471e4184c2",
        "colab": {
          "base_uri": "https://localhost:8080/",
          "height": 312
        }
      },
      "source": [
        "plt.figure('Before normalization')\n",
        "plt.title('Before normalization')\n",
        "plt.scatter(x[0], x[1], c = species)\n",
        "plt.xlim(1,7)\n",
        "plt.ylim(-1,4)\n",
        "plt.xlabel('length of iris')\n",
        "plt.ylabel('width of iris')"
      ],
      "execution_count": 7,
      "outputs": [
        {
          "output_type": "execute_result",
          "data": {
            "text/plain": [
              "Text(0, 0.5, 'width of iris')"
            ]
          },
          "metadata": {
            "tags": []
          },
          "execution_count": 7
        },
        {
          "output_type": "display_data",
          "data": {
            "image/png": "[encoded data removed]",
            "text/plain": [
              "<Figure size 432x288 with 1 Axes>"
            ]
          },
          "metadata": {
            "tags": [],
            "needs_background": "light"
          }
        }
      ]
    },
    {
      "cell_type": "code",
      "metadata": {
        "id": "A_YQPLPBAKNn",
        "colab_type": "code",
        "outputId": "78c403ff-c800-431f-9ef0-b779bddf7fbe",
        "colab": {
          "base_uri": "https://localhost:8080/",
          "height": 312
        }
      },
      "source": [
        "plt.figure('After normalization')\n",
        "plt.title('After normalization')\n",
        "plt.scatter(x_normal_0, x_normal_1, c = species)\n",
        "plt.xlim(-1.5,1.5)\n",
        "plt.ylim(-1.5,1.5)\n",
        "plt.xlabel('length of iris')\n",
        "plt.ylabel('width of iris')"
      ],
      "execution_count": 8,
      "outputs": [
        {
          "output_type": "execute_result",
          "data": {
            "text/plain": [
              "Text(0, 0.5, 'width of iris')"
            ]
          },
          "metadata": {
            "tags": []
          },
          "execution_count": 8
        },
        {
          "output_type": "display_data",
          "data": {
            "image/png": "[encoded data removed]",
            "text/plain": [
              "<Figure size 432x288 with 1 Axes>"
            ]
          },
          "metadata": {
            "tags": [],
            "needs_background": "light"
          }
        }
      ]
    }
  ]
}