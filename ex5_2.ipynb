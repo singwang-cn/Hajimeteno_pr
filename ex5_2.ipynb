{
  "nbformat": 4,
  "nbformat_minor": 0,
  "metadata": {
    "colab": {
      "name": "ex5_2.ipynb",
      "provenance": [],
      "mount_file_id": "17Y2G33xyluH7tgwt5OhkCUVg3qM7qmIo",
      "authorship_tag": "ABX9TyPzFMFuqgWmcfopVAVZBOIn",
      "include_colab_link": true
    },
    "kernelspec": {
      "name": "python3",
      "display_name": "Python 3"
    }
  },
  "cells": [
    {
      "cell_type": "markdown",
      "metadata": {
        "id": "view-in-github",
        "colab_type": "text"
      },
      "source": [
        "<a href=\"https://colab.research.google.com/github/singwang-cn/Hajimeteno_pr/blob/master/ex5_2.ipynb\" target=\"_parent\"><img src=\"https://colab.research.google.com/assets/colab-badge.svg\" alt=\"Open In Colab\"/></a>"
      ]
    },
    {
      "cell_type": "code",
      "metadata": {
        "id": "551KuLsFV643",
        "colab_type": "code",
        "colab": {}
      },
      "source": [
        "import struct\n",
        "import numpy as np\n",
        "import pandas as pd\n",
        "import matplotlib.pyplot as plt\n",
        "from sklearn.neighbors import KNeighborsClassifier"
      ],
      "execution_count": 0,
      "outputs": []
    },
    {
      "cell_type": "code",
      "metadata": {
        "id": "ZbvAedc3hP27",
        "colab_type": "code",
        "colab": {}
      },
      "source": [
        "def load_image(datafile=''):\n",
        "  path = '/content/drive/My Drive/Dataset/mnist dataset/'+datafile\n",
        "  data = open(path, 'rb').read()\n",
        "  magic_number, num_image, num_row, num_col = struct.unpack_from('>iiii', data, 0)\n",
        "  offset = 16\n",
        "  image_list = []\n",
        "  for i in range(num_image):\n",
        "    image = np.array(struct.unpack_from('>'+str(num_row*num_col)+'B', data, offset)).reshape(num_row,num_col)\n",
        "    image_list.append(image)\n",
        "    offset += int(num_row*num_col)\n",
        "  return image_list\n",
        "\n",
        "def load_label(datafile=''):\n",
        "  path = '/content/drive/My Drive/Dataset/mnist dataset/'+datafile\n",
        "  data = open(path, 'rb').read()\n",
        "  magic_number, num_label = struct.unpack_from('>ii', data, 0)\n",
        "  offset = 8\n",
        "  label_list = []\n",
        "  for i in range(num_label):\n",
        "    label = struct.unpack_from('>B', data, offset)\n",
        "    label_list.append(label[0])\n",
        "    offset += 1\n",
        "  return label_list"
      ],
      "execution_count": 0,
      "outputs": []
    },
    {
      "cell_type": "code",
      "metadata": {
        "id": "RtxZ_1RIitr_",
        "colab_type": "code",
        "colab": {}
      },
      "source": [
        "image_train = load_image('train-images.idx3-ubyte')\n",
        "label_train = load_label('train-labels.idx1-ubyte')\n",
        "image_test = load_image('t10k-images.idx3-ubyte')\n",
        "label_test = load_label('t10k-labels.idx1-ubyte')"
      ],
      "execution_count": 0,
      "outputs": []
    },
    {
      "cell_type": "code",
      "metadata": {
        "id": "Lp_x5HBEp9Km",
        "colab_type": "code",
        "colab": {}
      },
      "source": [
        "class image_with_label():\n",
        "  def __init__(self, image, label):\n",
        "    self.image = image\n",
        "    self.label = label\n",
        "  def show(self):\n",
        "    plt.imshow(self.image)\n",
        "    print(\"Label: {}\".format(self.label))"
      ],
      "execution_count": 0,
      "outputs": []
    },
    {
      "cell_type": "code",
      "metadata": {
        "id": "qSZ-5CrXrtS8",
        "colab_type": "code",
        "colab": {}
      },
      "source": [
        "data_train = [image_with_label(image_train[i],label_train[i]) for i in range(len(image_train))]\n",
        "data_test = [image_with_label(image_test[i],label_test[i]) for i in range(len(image_test))]"
      ],
      "execution_count": 0,
      "outputs": []
    },
    {
      "cell_type": "code",
      "metadata": {
        "id": "g1YX3Lggi7Hm",
        "colab_type": "code",
        "colab": {}
      },
      "source": [
        "def k_nearest_neighbor(in_image, template, k=1):\n",
        "  vote_to_classes = [0 for i in range(10)]\n",
        "  distance_of_all = [[sum(np.square(template[i].image.flatten() - in_image.flatten())),i] for i in range(len(template))]\n",
        "  class_iterator = 0\n",
        "\n",
        "  sorted_distance = sorted(distance_of_all, key=lambda x:x[0])\n",
        "\n",
        "  for i in range(k):\n",
        "    vote_to_classes[template[sorted_distance[i][1]].label] += 1\n",
        "  print(\"The result of vote:\")\n",
        "\n",
        "\n",
        "  result_vote = {str(i):[vote_to_classes[i]] for i in range(10)}\n",
        "  print(pd.DataFrame(result_vote))\n",
        "  result = vote_to_classes.index(max(vote_to_classes))\n",
        "  print(\"The result is:\")\n",
        "  return result"
      ],
      "execution_count": 0,
      "outputs": []
    },
    {
      "cell_type": "code",
      "metadata": {
        "id": "DnNhoEFT1DmA",
        "colab_type": "code",
        "colab": {
          "base_uri": "https://localhost:8080/",
          "height": 101
        },
        "outputId": "0d9acf76-172b-4818-d50f-91d470dd7a14"
      },
      "source": [
        "k_nearest_neighbor(image_test[666], data_train, 1000)"
      ],
      "execution_count": 23,
      "outputs": [
        {
          "output_type": "stream",
          "text": [
            "The result of vote:\n",
            "   0  1  2  3   4  5  6    7  8    9\n",
            "0  0  2  0  1  39  0  0  683  0  275\n",
            "The result is:\n"
          ],
          "name": "stdout"
        },
        {
          "output_type": "execute_result",
          "data": {
            "text/plain": [
              "7"
            ]
          },
          "metadata": {
            "tags": []
          },
          "execution_count": 23
        }
      ]
    },
    {
      "cell_type": "code",
      "metadata": {
        "id": "Gd7x-5mw6cJr",
        "colab_type": "code",
        "colab": {
          "base_uri": "https://localhost:8080/",
          "height": 282
        },
        "outputId": "0595f2b8-3bfc-4905-9ebd-e68ef9736ef5"
      },
      "source": [
        "plt.imshow(image_test[666])"
      ],
      "execution_count": 24,
      "outputs": [
        {
          "output_type": "execute_result",
          "data": {
            "text/plain": [
              "<matplotlib.image.AxesImage at 0x7f0c33c3d668>"
            ]
          },
          "metadata": {
            "tags": []
          },
          "execution_count": 24
        },
        {
          "output_type": "display_data",
          "data": {
            "image/png": "[encoded data removed]",
            "text/plain": [
              "<Figure size 432x288 with 1 Axes>"
            ]
          },
          "metadata": {
            "tags": [],
            "needs_background": "light"
          }
        }
      ]
    },
    {
      "cell_type": "code",
      "metadata": {
        "id": "LSMo77aD-D-S",
        "colab_type": "code",
        "colab": {
          "base_uri": "https://localhost:8080/",
          "height": 67
        },
        "outputId": "76351f2e-7d29-4b66-b253-966633954a8c"
      },
      "source": [
        "X_train = [x.flatten() for x in image_train]\n",
        "knn = KNeighborsClassifier(n_neighbors=10000)\n",
        "\n",
        "knn.fit(X_train, label_train)"
      ],
      "execution_count": 4,
      "outputs": [
        {
          "output_type": "execute_result",
          "data": {
            "text/plain": [
              "KNeighborsClassifier(algorithm='auto', leaf_size=30, metric='minkowski',\n",
              "                     metric_params=None, n_jobs=None, n_neighbors=10000, p=2,\n",
              "                     weights='uniform')"
            ]
          },
          "metadata": {
            "tags": []
          },
          "execution_count": 4
        }
      ]
    },
    {
      "cell_type": "code",
      "metadata": {
        "id": "rJBywdfFAU3L",
        "colab_type": "code",
        "colab": {
          "base_uri": "https://localhost:8080/",
          "height": 34
        },
        "outputId": "e5aaf052-4bb0-4d42-8fc8-69cb313f5509"
      },
      "source": [
        "knn.predict([image_test[0].flatten()])"
      ],
      "execution_count": 5,
      "outputs": [
        {
          "output_type": "execute_result",
          "data": {
            "text/plain": [
              "array([7])"
            ]
          },
          "metadata": {
            "tags": []
          },
          "execution_count": 5
        }
      ]
    }
  ]
}