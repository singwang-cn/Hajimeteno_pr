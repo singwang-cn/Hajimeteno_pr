{
  "nbformat": 4,
  "nbformat_minor": 0,
  "metadata": {
    "colab": {
      "name": "ex5_2.ipynb",
      "provenance": [],
      "mount_file_id": "https://github.com/singwang-cn/Hajimeteno_pr/blob/master/ex5_2.ipynb",
      "authorship_tag": "ABX9TyNQlOPvyynMmRFLqUUBzMHM",
      "include_colab_link": true
    },
    "kernelspec": {
      "name": "python3",
      "display_name": "Python 3"
    }
  },
  "cells": [
    {
      "cell_type": "markdown",
      "metadata": {
        "id": "view-in-github",
        "colab_type": "text"
      },
      "source": [
        "<a href=\"https://colab.research.google.com/github/singwang-cn/Hajimeteno_pr/blob/master/ex5_2.ipynb\" target=\"_parent\"><img src=\"https://colab.research.google.com/assets/colab-badge.svg\" alt=\"Open In Colab\"/></a>"
      ]
    },
    {
      "cell_type": "code",
      "metadata": {
        "id": "551KuLsFV643",
        "colab_type": "code",
        "colab": {}
      },
      "source": [
        "import struct\n",
        "import random\n",
        "import numpy as np\n",
        "import pandas as pd\n",
        "import matplotlib.pyplot as plt\n",
        "from sklearn.neighbors import KNeighborsClassifier\n",
        "from sklearn.model_selection import LeaveOneOut"
      ],
      "execution_count": 0,
      "outputs": []
    },
    {
      "cell_type": "code",
      "metadata": {
        "id": "ZbvAedc3hP27",
        "colab_type": "code",
        "colab": {}
      },
      "source": [
        "def load_image(datafile=''):\n",
        "  path = '/content/drive/My Drive/Dataset/mnist dataset/'+datafile\n",
        "  data = open(path, 'rb').read()\n",
        "  magic_number, num_image, num_row, num_col = struct.unpack_from('>iiii', data, 0)\n",
        "  offset = 16\n",
        "  image_list = []\n",
        "  for i in range(num_image):\n",
        "    image = np.array(struct.unpack_from('>'+str(num_row*num_col)+'B', data, offset)).reshape(num_row,num_col)\n",
        "    image_list.append(image)\n",
        "    offset += int(num_row*num_col)\n",
        "  return image_list\n",
        "\n",
        "def load_label(datafile=''):\n",
        "  path = '/content/drive/My Drive/Dataset/mnist dataset/'+datafile\n",
        "  data = open(path, 'rb').read()\n",
        "  magic_number, num_label = struct.unpack_from('>ii', data, 0)\n",
        "  offset = 8\n",
        "  label_list = []\n",
        "  for i in range(num_label):\n",
        "    label = struct.unpack_from('>B', data, offset)\n",
        "    label_list.append(label[0])\n",
        "    offset += 1\n",
        "  return label_list\n",
        "image_train = load_image('train-images.idx3-ubyte')\n",
        "label_train = load_label('train-labels.idx1-ubyte')\n",
        "image_test = load_image('t10k-images.idx3-ubyte')\n",
        "label_test = load_label('t10k-labels.idx1-ubyte')"
      ],
      "execution_count": 0,
      "outputs": []
    },
    {
      "cell_type": "code",
      "metadata": {
        "id": "Lp_x5HBEp9Km",
        "colab_type": "code",
        "colab": {}
      },
      "source": [
        "class image_with_label():\n",
        "  def __init__(self, image, label):\n",
        "    self.image = image\n",
        "    self.label = label\n",
        "  def show(self):\n",
        "    plt.imshow(self.image)\n",
        "    print(\"Label: {}\".format(self.label))\n",
        "\n",
        "data_train = [image_with_label(image_train[i],label_train[i]) for i in range(len(image_train))]\n",
        "data_test = [image_with_label(image_test[i],label_test[i]) for i in range(len(image_test))]"
      ],
      "execution_count": 0,
      "outputs": []
    },
    {
      "cell_type": "code",
      "metadata": {
        "id": "g1YX3Lggi7Hm",
        "colab_type": "code",
        "colab": {}
      },
      "source": [
        "def k_nearest_neighbor(in_image, template, k=1):\n",
        "  vote_to_classes = [0 for i in range(10)]\n",
        "  distance_of_all = [[sum(np.square(template[i].image.flatten() - in_image.flatten())),i] for i in range(len(template))]\n",
        "  class_iterator = 0\n",
        "\n",
        "  sorted_distance = sorted(distance_of_all, key=lambda x:x[0])\n",
        "\n",
        "  for i in range(k):\n",
        "    vote_to_classes[template[sorted_distance[i][1]].label] += 1\n",
        "  print(\"The result of vote:\")\n",
        "\n",
        "\n",
        "  result_vote = {str(i):[vote_to_classes[i]] for i in range(10)}\n",
        "  print(pd.DataFrame(result_vote))\n",
        "  result = vote_to_classes.index(max(vote_to_classes))\n",
        "  print(\"The result is:\")\n",
        "  return result"
      ],
      "execution_count": 0,
      "outputs": []
    },
    {
      "cell_type": "code",
      "metadata": {
        "id": "DnNhoEFT1DmA",
        "colab_type": "code",
        "outputId": "addf6326-5dff-4c29-d92f-ae8bc848dac2",
        "colab": {
          "base_uri": "https://localhost:8080/",
          "height": 101
        }
      },
      "source": [
        "k_nearest_neighbor(image_test[666], data_train, 1000)"
      ],
      "execution_count": 8,
      "outputs": [
        {
          "output_type": "stream",
          "text": [
            "The result of vote:\n",
            "   0  1  2  3   4  5  6    7  8    9\n",
            "0  0  2  0  1  39  0  0  683  0  275\n",
            "The result is:\n"
          ],
          "name": "stdout"
        },
        {
          "output_type": "execute_result",
          "data": {
            "text/plain": [
              "7"
            ]
          },
          "metadata": {
            "tags": []
          },
          "execution_count": 8
        }
      ]
    },
    {
      "cell_type": "code",
      "metadata": {
        "id": "Gd7x-5mw6cJr",
        "colab_type": "code",
        "outputId": "826e87e2-6fe6-4e71-a7a7-a280702424fc",
        "colab": {
          "base_uri": "https://localhost:8080/",
          "height": 282
        }
      },
      "source": [
        "plt.imshow(image_test[666])"
      ],
      "execution_count": 9,
      "outputs": [
        {
          "output_type": "execute_result",
          "data": {
            "text/plain": [
              "<matplotlib.image.AxesImage at 0x7fcc96c63940>"
            ]
          },
          "metadata": {
            "tags": []
          },
          "execution_count": 9
        },
        {
          "output_type": "display_data",
          "data": {
            "image/png": "[encoded data removed]",
            "text/plain": [
              "<Figure size 432x288 with 1 Axes>"
            ]
          },
          "metadata": {
            "tags": [],
            "needs_background": "light"
          }
        }
      ]
    },
    {
      "cell_type": "markdown",
      "metadata": {
        "id": "dF6jcaI-2VNn",
        "colab_type": "text"
      },
      "source": [
        "# Find the best k in k-nearest neighbors method"
      ]
    },
    {
      "cell_type": "code",
      "metadata": {
        "id": "LSMo77aD-D-S",
        "colab_type": "code",
        "colab": {}
      },
      "source": [
        "vector_image_train = [x.flatten() for x in image_train]\n",
        "vector_image_test = [x.flatten() for x in image_test]\n",
        "dataframe_train = pd.DataFrame(vector_image_train)\n",
        "dataframe_train['label'] = label_train\n",
        "dataframe_test = pd.DataFrame(vector_image_test)\n",
        "dataframe_test['label'] = label_test\n",
        "g_0,g_1,g_2,g_3,g_4,g_5,g_6,g_7,g_8,g_9 = dataframe_train.groupby('label')\n",
        "mini_train = g_0[1].sample(n = 650).append([g_1[1].sample(n = 650),g_2[1].sample(n = 650),g_3[1].sample(n = 650),\n",
        "         g_4[1].sample(n = 650),g_5[1].sample(n = 650),g_6[1].sample(n = 650),\n",
        "         g_7[1].sample(n = 650),g_8[1].sample(n = 650),g_9[1].sample(n = 650)])\n",
        "mini_test = dataframe_test.sample(n = 650)"
      ],
      "execution_count": 0,
      "outputs": []
    },
    {
      "cell_type": "code",
      "metadata": {
        "id": "12DtxXfoe0ja",
        "colab_type": "code",
        "colab": {}
      },
      "source": [
        "mini_train_label = np.array(mini_train['label'].tolist())\n",
        "mini_train_image = mini_train.drop(columns = ['label']).values\n",
        "mini_test_label = np.array(mini_test['label'].tolist())\n",
        "mini_test_image = mini_test.drop(columns = ['label']).values"
      ],
      "execution_count": 0,
      "outputs": []
    },
    {
      "cell_type": "code",
      "metadata": {
        "id": "GPOC0npK7K_h",
        "colab_type": "code",
        "colab": {}
      },
      "source": [
        "k_list = [i for i in range(22) if i%2!=0]\n",
        "error_rate = []\n",
        "for k in k_list:\n",
        "  error = 0\n",
        "  knn = KNeighborsClassifier(n_neighbors=k)\n",
        "  knn.fit(mini_train_image,mini_train_label)\n",
        "  predicted_label = knn.predict(mini_test_image)\n",
        "  for i in range(len(predicted_label)):\n",
        "    if predicted_label[i] != mini_test_label[i]: error += 1\n",
        "  error_rate.append(error/mini_test_image.shape[0])"
      ],
      "execution_count": 0,
      "outputs": []
    },
    {
      "cell_type": "code",
      "metadata": {
        "id": "nxsQzSOsvHls",
        "colab_type": "code",
        "colab": {
          "base_uri": "https://localhost:8080/",
          "height": 312
        },
        "outputId": "23418cd2-0cac-4c70-b21f-cab3df697bc9"
      },
      "source": [
        "plt.figure(\"error rate and k with minist data set\")\n",
        "plt.title(\"error rate and k with minist data set\")\n",
        "plt.plot(k_list, error_rate, color='red', label='hold out')\n",
        "plt.scatter(k_list, error_rate, marker='x', color='black')\n",
        "plt.xlabel('k')\n",
        "plt.xticks(k_list)\n",
        "plt.ylabel('error rate')\n",
        "plt.legend()"
      ],
      "execution_count": 36,
      "outputs": [
        {
          "output_type": "execute_result",
          "data": {
            "text/plain": [
              "<matplotlib.legend.Legend at 0x7fcc4fff5780>"
            ]
          },
          "metadata": {
            "tags": []
          },
          "execution_count": 36
        },
        {
          "output_type": "display_data",
          "data": {
            "image/png": "[encoded data removed]",
            "text/plain": [
              "<Figure size 432x288 with 1 Axes>"
            ]
          },
          "metadata": {
            "tags": [],
            "needs_background": "light"
          }
        }
      ]
    },
    {
      "cell_type": "code",
      "metadata": {
        "id": "KY90PTsm27Ce",
        "colab_type": "code",
        "colab": {}
      },
      "source": [
        "data_path = '/content/drive/My Drive/Dataset/diabetes.csv'\n",
        "pima = pd.read_csv(data_path)\n",
        "pima_tr = pima.sample(n = 200, replace = False)\n",
        "pima_te = pima.sample(n = 332)\n",
        "pima_co = pima_tr.append(pima_te)"
      ],
      "execution_count": 0,
      "outputs": []
    },
    {
      "cell_type": "code",
      "metadata": {
        "id": "Jd4ZuTNfQwBl",
        "colab_type": "code",
        "colab": {}
      },
      "source": [
        "pima_data = pima.drop(columns=['Outcome'])\n",
        "pima_tr_label = np.array(pima_tr['Outcome'].tolist())\n",
        "pima_tr_nolabel = pima_tr.drop(columns = ['Outcome'])\n",
        "pima_tr_data = ((pima_tr_nolabel-pima_data.mean())/pima_data.std()).values\n",
        "pima_te_label = np.array(pima_te['Outcome'].tolist())\n",
        "pima_te_nolabel = pima_te.drop(columns = ['Outcome'])\n",
        "pima_te_data = ((pima_te_nolabel-pima_data.mean())/pima_data.std()).values\n",
        "pima_co_label = np.array(pima_co['Outcome'].tolist())\n",
        "pima_co_nolabel = pima_co.drop(columns = ['Outcome'])\n",
        "pima_co_data = ((pima_co_nolabel-pima_data.mean())/pima_data.std()).values"
      ],
      "execution_count": 0,
      "outputs": []
    },
    {
      "cell_type": "code",
      "metadata": {
        "id": "zLmS9SoAU_c6",
        "colab_type": "code",
        "colab": {}
      },
      "source": [
        "k_list1 = [i for i in range(122) if i%2!=0]\n",
        "error_rate1 = []\n",
        "for k in k_list1:\n",
        "  error = 0\n",
        "  knn = KNeighborsClassifier(n_neighbors=k)\n",
        "  knn.fit(pima_tr_data,pima_tr_label)\n",
        "  predicted_label = knn.predict(pima_te_data)\n",
        "  for i in range(len(predicted_label)):\n",
        "    if predicted_label[i] != pima_te_label[i]: error += 1\n",
        "  error_rate1.append(error/mini_test_image.shape[0])"
      ],
      "execution_count": 0,
      "outputs": []
    },
    {
      "cell_type": "code",
      "metadata": {
        "id": "n-he7DeWaTtN",
        "colab_type": "code",
        "colab": {}
      },
      "source": [
        "loo = LeaveOneOut()\n",
        "error_rate2 = []\n",
        "for k in k_list1:\n",
        "  error = 0\n",
        "  knn = KNeighborsClassifier(n_neighbors=k)\n",
        "  for i_tr, i_te in loo.split(pima_co_data):\n",
        "    knn.fit(pima_co_data[i_tr],pima_co_label[i_tr])\n",
        "    if knn.predict(pima_co_data[i_te]) != pima_co_label[i_te]:\n",
        "      error += 1\n",
        "  error_rate2.append(error/pima_co_data.shape[0])"
      ],
      "execution_count": 0,
      "outputs": []
    },
    {
      "cell_type": "code",
      "metadata": {
        "id": "UZF7YxPzWNEd",
        "colab_type": "code",
        "colab": {
          "base_uri": "https://localhost:8080/",
          "height": 312
        },
        "outputId": "d79d2ebd-ede6-4005-8e42-3c01cf6cf45c"
      },
      "source": [
        "plt.figure(\"error rate and k with pima data set\")\n",
        "plt.title(\"error rate and k with pima data set\")\n",
        "plt.scatter(k_list1, error_rate1, marker='x', color='black', label='hold out')\n",
        "plt.scatter(k_list1, error_rate2, marker='.', color='red', label='leave one out')\n",
        "plt.xlabel('k')\n",
        "plt.xticks([20,40,60,80,100,120])\n",
        "plt.ylabel('error rate')\n",
        "plt.legend()"
      ],
      "execution_count": 95,
      "outputs": [
        {
          "output_type": "execute_result",
          "data": {
            "text/plain": [
              "<matplotlib.legend.Legend at 0x7fcc96b20e10>"
            ]
          },
          "metadata": {
            "tags": []
          },
          "execution_count": 95
        },
        {
          "output_type": "display_data",
          "data": {
            "image/png": "[encoded data removed]",
            "text/plain": [
              "<Figure size 432x288 with 1 Axes>"
            ]
          },
          "metadata": {
            "tags": [],
            "needs_background": "light"
          }
        }
      ]
    }
  ]
}