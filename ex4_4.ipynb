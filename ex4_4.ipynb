{
  "nbformat": 4,
  "nbformat_minor": 0,
  "metadata": {
    "colab": {
      "name": "ex4-4.ipynb",
      "provenance": [],
      "mount_file_id": "1gZ4qtFrVnORD-KcNqVT-fXnbYdhE_P_h",
      "authorship_tag": "ABX9TyPQYRAyoCiYLWrlavx27C9u",
      "include_colab_link": true
    },
    "kernelspec": {
      "name": "python3",
      "display_name": "Python 3"
    }
  },
  "cells": [
    {
      "cell_type": "markdown",
      "metadata": {
        "id": "view-in-github",
        "colab_type": "text"
      },
      "source": [
        "<a href=\"https://colab.research.google.com/github/singwang-cn/Hajimeteno_pr/blob/master/ex4_4.ipynb\" target=\"_parent\"><img src=\"https://colab.research.google.com/assets/colab-badge.svg\" alt=\"Open In Colab\"/></a>"
      ]
    },
    {
      "cell_type": "code",
      "metadata": {
        "id": "mHAzDDx8ypYr",
        "colab_type": "code",
        "colab": {}
      },
      "source": [
        "from math import log\n",
        "import pandas as pd\n",
        "import numpy as np\n",
        "import matplotlib.pyplot as plt"
      ],
      "execution_count": 0,
      "outputs": []
    },
    {
      "cell_type": "code",
      "metadata": {
        "id": "OD8hWlxk05av",
        "colab_type": "code",
        "colab": {}
      },
      "source": [
        "data_path = '/content/drive/My Drive/Dataset/diabetes.csv'\n",
        "pima = pd.read_csv(data_path)\n",
        "pima_tr = pima.sample(n = 200, replace = False)\n",
        "pima_te = pima.sample(n = 332)"
      ],
      "execution_count": 0,
      "outputs": []
    },
    {
      "cell_type": "code",
      "metadata": {
        "id": "SkKPgejdR4Vn",
        "colab_type": "code",
        "colab": {
          "base_uri": "https://localhost:8080/",
          "height": 195
        },
        "outputId": "28ed63bd-3261-4fb9-f6fd-e48814084c98"
      },
      "source": [
        "pima_tr.head()"
      ],
      "execution_count": 290,
      "outputs": [
        {
          "output_type": "execute_result",
          "data": {
            "text/html": [
              "<div>\n",
              "<style scoped>\n",
              "    .dataframe tbody tr th:only-of-type {\n",
              "        vertical-align: middle;\n",
              "    }\n",
              "\n",
              "    .dataframe tbody tr th {\n",
              "        vertical-align: top;\n",
              "    }\n",
              "\n",
              "    .dataframe thead th {\n",
              "        text-align: right;\n",
              "    }\n",
              "</style>\n",
              "<table border=\"1\" class=\"dataframe\">\n",
              "  <thead>\n",
              "    <tr style=\"text-align: right;\">\n",
              "      <th></th>\n",
              "      <th>Pregnancies</th>\n",
              "      <th>Glucose</th>\n",
              "      <th>BloodPressure</th>\n",
              "      <th>SkinThickness</th>\n",
              "      <th>Insulin</th>\n",
              "      <th>BMI</th>\n",
              "      <th>DiabetesPedigreeFunction</th>\n",
              "      <th>Age</th>\n",
              "      <th>Outcome</th>\n",
              "    </tr>\n",
              "  </thead>\n",
              "  <tbody>\n",
              "    <tr>\n",
              "      <th>622</th>\n",
              "      <td>6</td>\n",
              "      <td>183</td>\n",
              "      <td>94</td>\n",
              "      <td>0</td>\n",
              "      <td>0</td>\n",
              "      <td>40.8</td>\n",
              "      <td>1.461</td>\n",
              "      <td>45</td>\n",
              "      <td>0</td>\n",
              "    </tr>\n",
              "    <tr>\n",
              "      <th>733</th>\n",
              "      <td>2</td>\n",
              "      <td>106</td>\n",
              "      <td>56</td>\n",
              "      <td>27</td>\n",
              "      <td>165</td>\n",
              "      <td>29.0</td>\n",
              "      <td>0.426</td>\n",
              "      <td>22</td>\n",
              "      <td>0</td>\n",
              "    </tr>\n",
              "    <tr>\n",
              "      <th>633</th>\n",
              "      <td>1</td>\n",
              "      <td>128</td>\n",
              "      <td>82</td>\n",
              "      <td>17</td>\n",
              "      <td>183</td>\n",
              "      <td>27.5</td>\n",
              "      <td>0.115</td>\n",
              "      <td>22</td>\n",
              "      <td>0</td>\n",
              "    </tr>\n",
              "    <tr>\n",
              "      <th>748</th>\n",
              "      <td>3</td>\n",
              "      <td>187</td>\n",
              "      <td>70</td>\n",
              "      <td>22</td>\n",
              "      <td>200</td>\n",
              "      <td>36.4</td>\n",
              "      <td>0.408</td>\n",
              "      <td>36</td>\n",
              "      <td>1</td>\n",
              "    </tr>\n",
              "    <tr>\n",
              "      <th>322</th>\n",
              "      <td>0</td>\n",
              "      <td>124</td>\n",
              "      <td>70</td>\n",
              "      <td>20</td>\n",
              "      <td>0</td>\n",
              "      <td>27.4</td>\n",
              "      <td>0.254</td>\n",
              "      <td>36</td>\n",
              "      <td>1</td>\n",
              "    </tr>\n",
              "  </tbody>\n",
              "</table>\n",
              "</div>"
            ],
            "text/plain": [
              "     Pregnancies  Glucose  ...  Age  Outcome\n",
              "622            6      183  ...   45        0\n",
              "733            2      106  ...   22        0\n",
              "633            1      128  ...   22        0\n",
              "748            3      187  ...   36        1\n",
              "322            0      124  ...   36        1\n",
              "\n",
              "[5 rows x 9 columns]"
            ]
          },
          "metadata": {
            "tags": []
          },
          "execution_count": 290
        }
      ]
    },
    {
      "cell_type": "code",
      "metadata": {
        "id": "krIjFhoATLZp",
        "colab_type": "code",
        "colab": {}
      },
      "source": [
        "negtive_sample, positive_sample = pima_tr.groupby('Outcome')\n",
        "positive_sample, negtive_sample = positive_sample[1], negtive_sample[1]"
      ],
      "execution_count": 0,
      "outputs": []
    },
    {
      "cell_type": "code",
      "metadata": {
        "id": "qWKQvqWnb0aN",
        "colab_type": "code",
        "colab": {}
      },
      "source": [
        "def computate_expectation_variance(df):\n",
        "  x = np.matrix([df['Glucose'].tolist(), df['BMI'].tolist()])\n",
        "  u = np.matrix([[x[0].mean()],[x[1].mean()]])\n",
        "  sigma = (x-u) * (x-u).T\n",
        "  return u,sigma"
      ],
      "execution_count": 0,
      "outputs": []
    },
    {
      "cell_type": "code",
      "metadata": {
        "id": "wAqs8qxNneXj",
        "colab_type": "code",
        "colab": {}
      },
      "source": [
        "u_p, sigma_p = computate_expectation_variance(positive_sample)\n",
        "u_n, sigma_n = computate_expectation_variance(negtive_sample)\n",
        "S = sigma_p.I - sigma_n.I\n",
        "c = u_n.T*sigma_n.I - u_p.T*sigma_p.I\n",
        "F = u_p.T*sigma_p.I*u_p - u_n.T*sigma_n.I*u_n + log(np.linalg.det(sigma_p)/np.linalg.det(sigma_n))-2*log((len(positive_sample)/len(pima_tr))/(negtive_sample.shape[0]/pima_tr.shape[0]))"
      ],
      "execution_count": 0,
      "outputs": []
    },
    {
      "cell_type": "code",
      "metadata": {
        "id": "a5pZGZR5fRAP",
        "colab_type": "code",
        "colab": {
          "base_uri": "https://localhost:8080/",
          "height": 50
        },
        "outputId": "104017f6-ca86-49e5-ccd2-e05b3be3c454"
      },
      "source": [
        "sigma_p"
      ],
      "execution_count": 309,
      "outputs": [
        {
          "output_type": "execute_result",
          "data": {
            "text/plain": [
              "matrix([[77292.87142857,  3911.34142857],\n",
              "        [ 3911.34142857,  2899.59442857]])"
            ]
          },
          "metadata": {
            "tags": []
          },
          "execution_count": 309
        }
      ]
    },
    {
      "cell_type": "code",
      "metadata": {
        "id": "gGxDG9wM82D-",
        "colab_type": "code",
        "colab": {}
      },
      "source": [
        "def quadratic_rf(x, y):\n",
        "  x = np.matrix([[x],[y]])\n",
        "  bias = (x.T*S*x + 2*c*x + F).getA()\n",
        "  return bias[0][0]"
      ],
      "execution_count": 0,
      "outputs": []
    },
    {
      "cell_type": "code",
      "metadata": {
        "id": "t1_P7hx3-y6u",
        "colab_type": "code",
        "colab": {}
      },
      "source": [
        "def linear_rf(x, y):\n",
        "  x = np.matrix([[x],[y]])\n",
        "  return 2*c*x + F"
      ],
      "execution_count": 0,
      "outputs": []
    },
    {
      "cell_type": "code",
      "metadata": {
        "id": "8iU2vrma2dYY",
        "colab_type": "code",
        "colab": {
          "base_uri": "https://localhost:8080/",
          "height": 296
        },
        "outputId": "d82e804b-8bd6-4d68-e6a6-de0a3c16bd30"
      },
      "source": [
        "plt.figure('Decision boundary')\n",
        "plt.scatter(pima_tr['Glucose'], pima_tr['BMI'], marker = '.', c = pima_tr['Outcome'])\n",
        "plt.xlim(50, 200)\n",
        "plt.ylim(15, 52)\n",
        "plt.xlabel('glu')\n",
        "plt.ylabel('bmi')\n",
        "\n",
        "x = np.arange(50, 200, 0.3)\n",
        "y = np.arange(0, 50, 0.1)\n",
        "z = np.empty((len(x),len(y)),dtype='float')\n",
        "for i in range(len(x)):\n",
        "  for j in range(len(y)):\n",
        "    z[i][j] = quadratic_rf(x[i], y[j])\n",
        "#contour = plt.contour(x, y, z, [-6,-4,-2,0,2,4,6])\n",
        "countour = plt.contour(x, y, z)\n",
        "plt.clabel(countour, colors=('k'))"
      ],
      "execution_count": 306,
      "outputs": [
        {
          "output_type": "execute_result",
          "data": {
            "text/plain": [
              "<a list of 8 text.Text objects>"
            ]
          },
          "metadata": {
            "tags": []
          },
          "execution_count": 306
        },
        {
          "output_type": "display_data",
          "data": {
            "image/png": "[encoded data removed]",
            "text/plain": [
              "<Figure size 432x288 with 1 Axes>"
            ]
          },
          "metadata": {
            "tags": [],
            "needs_background": "light"
          }
        }
      ]
    },
    {
      "cell_type": "code",
      "metadata": {
        "id": "3W-M8CIucq2q",
        "colab_type": "code",
        "colab": {
          "base_uri": "https://localhost:8080/",
          "height": 34
        },
        "outputId": "d0599f0b-65d0-44f2-e7c4-03f0aea7acc9"
      },
      "source": [
        "z.min()"
      ],
      "execution_count": 301,
      "outputs": [
        {
          "output_type": "execute_result",
          "data": {
            "text/plain": [
              "0.25137188899907026"
            ]
          },
          "metadata": {
            "tags": []
          },
          "execution_count": 301
        }
      ]
    },
    {
      "cell_type": "code",
      "metadata": {
        "id": "-tp65x61QGfk",
        "colab_type": "code",
        "colab": {
          "base_uri": "https://localhost:8080/",
          "height": 235
        },
        "outputId": "de8d4306-10b3-4c07-b765-a813e1b3efbd"
      },
      "source": [
        "x = np.arange(0, 5, 1)\n",
        "y = np.arange(0, 5, 1)\n",
        "X, Y = np.meshgrid(x, y)\n",
        "Z = X**2 + Y**2\n",
        "X, Y, Z"
      ],
      "execution_count": 272,
      "outputs": [
        {
          "output_type": "execute_result",
          "data": {
            "text/plain": [
              "(array([[0, 1, 2, 3, 4],\n",
              "        [0, 1, 2, 3, 4],\n",
              "        [0, 1, 2, 3, 4],\n",
              "        [0, 1, 2, 3, 4],\n",
              "        [0, 1, 2, 3, 4]]), array([[0, 0, 0, 0, 0],\n",
              "        [1, 1, 1, 1, 1],\n",
              "        [2, 2, 2, 2, 2],\n",
              "        [3, 3, 3, 3, 3],\n",
              "        [4, 4, 4, 4, 4]]), array([[ 0,  1,  4,  9, 16],\n",
              "        [ 1,  2,  5, 10, 17],\n",
              "        [ 4,  5,  8, 13, 20],\n",
              "        [ 9, 10, 13, 18, 25],\n",
              "        [16, 17, 20, 25, 32]]))"
            ]
          },
          "metadata": {
            "tags": []
          },
          "execution_count": 272
        }
      ]
    },
    {
      "cell_type": "code",
      "metadata": {
        "id": "7EbMlbRoU4Qq",
        "colab_type": "code",
        "colab": {
          "base_uri": "https://localhost:8080/",
          "height": 34
        },
        "outputId": "aa1175a9-5fc0-4081-c705-ab47ca7fc9f8"
      },
      "source": [
        "(len(positive_sample)/len(pima_tr))/(negtive_sample.shape[0]/pima_tr.shape[0])"
      ],
      "execution_count": 303,
      "outputs": [
        {
          "output_type": "execute_result",
          "data": {
            "text/plain": [
              "0.5384615384615384"
            ]
          },
          "metadata": {
            "tags": []
          },
          "execution_count": 303
        }
      ]
    }
  ]
}