{
  "nbformat": 4,
  "nbformat_minor": 0,
  "metadata": {
    "colab": {
      "name": "ex4-2.ipynb",
      "provenance": [],
      "authorship_tag": "ABX9TyOW5NKzREDppYEXL1OpcYNt",
      "include_colab_link": true
    },
    "kernelspec": {
      "name": "python3",
      "display_name": "Python 3"
    }
  },
  "cells": [
    {
      "cell_type": "markdown",
      "metadata": {
        "id": "view-in-github",
        "colab_type": "text"
      },
      "source": [
        "<a href=\"https://colab.research.google.com/github/singwang-cn/Hajimeteno_pr/blob/master/ex4_2.ipynb\" target=\"_parent\"><img src=\"https://colab.research.google.com/assets/colab-badge.svg\" alt=\"Open In Colab\"/></a>"
      ]
    },
    {
      "cell_type": "code",
      "metadata": {
        "id": "8wGYfvRFDuLy",
        "colab_type": "code",
        "colab": {}
      },
      "source": [
        "import matplotlib.pyplot as plt\n",
        "from sklearn import datasets\n",
        "import torch"
      ],
      "execution_count": 0,
      "outputs": []
    },
    {
      "cell_type": "code",
      "metadata": {
        "id": "-CTMDC4jLnCC",
        "colab_type": "code",
        "colab": {}
      },
      "source": [
        "iris_data = datasets.load_iris()\n",
        "\n",
        "x = torch.tensor([iris_data.data[:, 2], iris_data.data[:, 3]]).float()\n",
        "n = x.size()[1]\n",
        "u = torch.tensor([[x[0].mean()], [x[1].mean()]])\n",
        "sigma = (x-u).mm((x-u).t()) / n\n",
        "\n",
        "x_regula_0 = (x - u)[0] / (sigma[0, 0] ** .5)\n",
        "x_regula_1 = (x - u)[1] / (sigma[1, 1] ** .5)"
      ],
      "execution_count": 0,
      "outputs": []
    },
    {
      "cell_type": "code",
      "metadata": {
        "id": "3LRmyIofZJ1T",
        "colab_type": "code",
        "colab": {}
      },
      "source": [
        "#compute the eigenvlue and eigenvector of matrix sigma\n",
        "#s is the rotation matrix\n"
      ],
      "execution_count": 0,
      "outputs": []
    },
    {
      "cell_type": "code",
      "metadata": {
        "id": "Xa9eRgXXMRL5",
        "colab_type": "code",
        "colab": {}
      },
      "source": [
        "s = sigma.eig(eigenvectors = True)[1]\n",
        "s = s.mm(torch.tensor([[1,0],[0,-1]]).float())#adjust to the sample in text\n",
        "lam = s.inverse().mm(sigma.mm(s))\n",
        "#s_eigenvalue = sigma.eig(eigenvectors = True)[0][:,0]\n",
        "#lam = torch.tensor([[1,0],[0,1]])*(s_eigenvalue)"
      ],
      "execution_count": 0,
      "outputs": []
    },
    {
      "cell_type": "code",
      "metadata": {
        "id": "ysk4PWD8bwHX",
        "colab_type": "code",
        "colab": {}
      },
      "source": [
        "#make the data no corralative"
      ],
      "execution_count": 0,
      "outputs": []
    },
    {
      "cell_type": "code",
      "metadata": {
        "id": "7dpfOnIiM6jZ",
        "colab_type": "code",
        "colab": {}
      },
      "source": [
        "x_noco = s.inverse().mm(x)"
      ],
      "execution_count": 0,
      "outputs": []
    },
    {
      "cell_type": "code",
      "metadata": {
        "id": "1la1BMH9c90x",
        "colab_type": "code",
        "colab": {}
      },
      "source": [
        "#visualization"
      ],
      "execution_count": 0,
      "outputs": []
    },
    {
      "cell_type": "code",
      "metadata": {
        "id": "2Ew-MjffMfSE",
        "colab_type": "code",
        "outputId": "5efb65c9-9dcf-4e05-db0a-f044543269df",
        "colab": {
          "base_uri": "https://localhost:8080/",
          "height": 300
        }
      },
      "source": [
        "species = iris_data.target#set color for each kind of species\n",
        "\n",
        "plt.figure('Before regularization')\n",
        "plt.xlim(1,7)\n",
        "plt.ylim(-1,4)\n",
        "plt.scatter(x[0], x[1], c = species)\n",
        "plt.xlabel('length of iris')\n",
        "plt.ylabel('width of iris')"
      ],
      "execution_count": 63,
      "outputs": [
        {
          "output_type": "execute_result",
          "data": {
            "text/plain": [
              "Text(0, 0.5, 'width of iris')"
            ]
          },
          "metadata": {
            "tags": []
          },
          "execution_count": 63
        },
        {
          "output_type": "display_data",
          "data": {
            "image/png": "[encoded data removed]",
            "text/plain": [
              "<Figure size 432x288 with 1 Axes>"
            ]
          },
          "metadata": {
            "tags": [],
            "needs_background": "light"
          }
        }
      ]
    },
    {
      "cell_type": "code",
      "metadata": {
        "id": "Ns3GG58bR9D4",
        "colab_type": "code",
        "outputId": "664f825e-482e-4a5f-b4f3-59bd9beceb7a",
        "colab": {
          "base_uri": "https://localhost:8080/",
          "height": 300
        }
      },
      "source": [
        "plt.figure('After decorrelation')\n",
        "plt.scatter(x_noco[0], x_noco[1], c = species)\n",
        "plt.xlim(1,7)\n",
        "plt.ylim(-2,3)\n",
        "plt.xlabel('length of iris')\n",
        "plt.ylabel('width of iris')"
      ],
      "execution_count": 64,
      "outputs": [
        {
          "output_type": "execute_result",
          "data": {
            "text/plain": [
              "Text(0, 0.5, 'width of iris')"
            ]
          },
          "metadata": {
            "tags": []
          },
          "execution_count": 64
        },
        {
          "output_type": "display_data",
          "data": {
            "image/png": "[encoded data removed]",
            "text/plain": [
              "<Figure size 432x288 with 1 Axes>"
            ]
          },
          "metadata": {
            "tags": [],
            "needs_background": "light"
          }
        }
      ]
    }
  ]
}