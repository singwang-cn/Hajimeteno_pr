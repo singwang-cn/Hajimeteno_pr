{
  "nbformat": 4,
  "nbformat_minor": 0,
  "metadata": {
    "colab": {
      "name": "ex4-2.ipynb",
      "provenance": [],
      "authorship_tag": "ABX9TyPbr4VYLr7WzXDJXR31U7Ef",
      "include_colab_link": true
    },
    "kernelspec": {
      "name": "python3",
      "display_name": "Python 3"
    }
  },
  "cells": [
    {
      "cell_type": "markdown",
      "metadata": {
        "id": "view-in-github",
        "colab_type": "text"
      },
      "source": [
        "<a href=\"https://colab.research.google.com/github/singwang-cn/Hajimeteno_pr/blob/master/ex4_2.ipynb\" target=\"_parent\"><img src=\"https://colab.research.google.com/assets/colab-badge.svg\" alt=\"Open In Colab\"/></a>"
      ]
    },
    {
      "cell_type": "code",
      "metadata": {
        "id": "8wGYfvRFDuLy",
        "colab_type": "code",
        "colab": {}
      },
      "source": [
        "import matplotlib.pyplot as plt\n",
        "from sklearn import datasets\n",
        "import torch\n",
        "\n",
        "\n",
        "iris_data = datasets.load_iris()\n",
        "\n",
        "x = torch.tensor([iris_data.data[:, 2],\n",
        "                  iris_data.data[:, 3]]).float()\n",
        "\n",
        "n = x.size()[1]\n",
        "\n",
        "species = iris_data.target\n",
        "\n",
        "u = torch.tensor([[x[0].mean()],\n",
        "                  [x[1].mean()]])\n",
        "sig = (x-u).mm((x-u).t()) / n\n",
        "\n",
        "#s = torch.tensor([[0.92, 0.39],\n",
        "#                  [0.39, -0.92]])\n",
        "\n",
        "x_regula_0 = (x - u)[0] / (sig[0, 0] ** .5)\n",
        "x_regula_1 = (x - u)[1] / (sig[1, 1] ** .5)\n",
        "\n",
        "s = sig.eig(eigenvectors = True)[1]\n",
        "#print(s)\n",
        "\n",
        "lam = s.inverse().mm(sig.mm(s))\n",
        "#print(lam)\n",
        "\n",
        "x_deco = s.inverse().mm(x)\n",
        "\n",
        "\n",
        "plt.figure('Before regularization')\n",
        "plt.scatter(x[0], x[1], c = species)\n",
        "plt.xlabel('length of iris')\n",
        "plt.ylabel('width of iris')\n",
        "\n",
        "plt.figure('After regularization')\n",
        "plt.scatter(x_regula_0, x_regula_1, c = species)\n",
        "plt.xlabel('length of iris')\n",
        "plt.ylabel('width of iris')\n",
        "\n",
        "plt.figure('After decorrelation')\n",
        "plt.scatter(x_deco[0], x_deco[1], c = species)\n",
        "plt.xlabel('length of iris')\n",
        "plt.ylabel('width of iris')"
      ],
      "execution_count": 0,
      "outputs": []
    }
  ]
}